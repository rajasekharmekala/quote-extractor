{
  "cells": [
    {
      "cell_type": "code",
      "source": [
        ""
      ],
      "metadata": {
        "id": "b2s-7OtW2r49"
      },
      "execution_count": null,
      "outputs": []
    },
    {
      "cell_type": "code",
      "execution_count": null,
      "metadata": {
        "id": "MOsHUjgdIrIW",
        "colab": {
          "base_uri": "https://localhost:8080/"
        },
        "outputId": "43fa7637-1d07-4fbc-fd14-43a8755d704c"
      },
      "outputs": [
        {
          "output_type": "stream",
          "name": "stdout",
          "text": [
            "Looking in indexes: https://pypi.org/simple, https://us-python.pkg.dev/colab-wheels/public/simple/\n",
            "Requirement already satisfied: datasets in /usr/local/lib/python3.7/dist-packages (2.2.2)\n",
            "Requirement already satisfied: transformers in /usr/local/lib/python3.7/dist-packages (4.19.2)\n",
            "Requirement already satisfied: rouge-score in /usr/local/lib/python3.7/dist-packages (0.0.4)\n",
            "Requirement already satisfied: nltk in /usr/local/lib/python3.7/dist-packages (3.2.5)\n",
            "Requirement already satisfied: huggingface-hub<1.0.0,>=0.1.0 in /usr/local/lib/python3.7/dist-packages (from datasets) (0.7.0)\n",
            "Requirement already satisfied: packaging in /usr/local/lib/python3.7/dist-packages (from datasets) (21.3)\n",
            "Requirement already satisfied: fsspec[http]>=2021.05.0 in /usr/local/lib/python3.7/dist-packages (from datasets) (2022.5.0)\n",
            "Requirement already satisfied: numpy>=1.17 in /usr/local/lib/python3.7/dist-packages (from datasets) (1.21.6)\n",
            "Requirement already satisfied: requests>=2.19.0 in /usr/local/lib/python3.7/dist-packages (from datasets) (2.23.0)\n",
            "Requirement already satisfied: xxhash in /usr/local/lib/python3.7/dist-packages (from datasets) (3.0.0)\n",
            "Requirement already satisfied: pyarrow>=6.0.0 in /usr/local/lib/python3.7/dist-packages (from datasets) (6.0.1)\n",
            "Requirement already satisfied: tqdm>=4.62.1 in /usr/local/lib/python3.7/dist-packages (from datasets) (4.64.0)\n",
            "Requirement already satisfied: aiohttp in /usr/local/lib/python3.7/dist-packages (from datasets) (3.8.1)\n",
            "Requirement already satisfied: pandas in /usr/local/lib/python3.7/dist-packages (from datasets) (1.3.5)\n",
            "Requirement already satisfied: importlib-metadata in /usr/local/lib/python3.7/dist-packages (from datasets) (4.11.4)\n",
            "Requirement already satisfied: multiprocess in /usr/local/lib/python3.7/dist-packages (from datasets) (0.70.12.2)\n",
            "Requirement already satisfied: dill<0.3.5 in /usr/local/lib/python3.7/dist-packages (from datasets) (0.3.4)\n",
            "Requirement already satisfied: responses<0.19 in /usr/local/lib/python3.7/dist-packages (from datasets) (0.18.0)\n",
            "Requirement already satisfied: typing-extensions>=3.7.4.3 in /usr/local/lib/python3.7/dist-packages (from huggingface-hub<1.0.0,>=0.1.0->datasets) (4.2.0)\n",
            "Requirement already satisfied: filelock in /usr/local/lib/python3.7/dist-packages (from huggingface-hub<1.0.0,>=0.1.0->datasets) (3.7.0)\n",
            "Requirement already satisfied: pyyaml>=5.1 in /usr/local/lib/python3.7/dist-packages (from huggingface-hub<1.0.0,>=0.1.0->datasets) (6.0)\n",
            "Requirement already satisfied: pyparsing!=3.0.5,>=2.0.2 in /usr/local/lib/python3.7/dist-packages (from packaging->datasets) (3.0.9)\n",
            "Requirement already satisfied: urllib3!=1.25.0,!=1.25.1,<1.26,>=1.21.1 in /usr/local/lib/python3.7/dist-packages (from requests>=2.19.0->datasets) (1.25.11)\n",
            "Requirement already satisfied: idna<3,>=2.5 in /usr/local/lib/python3.7/dist-packages (from requests>=2.19.0->datasets) (2.10)\n",
            "Requirement already satisfied: certifi>=2017.4.17 in /usr/local/lib/python3.7/dist-packages (from requests>=2.19.0->datasets) (2022.5.18.1)\n",
            "Requirement already satisfied: chardet<4,>=3.0.2 in /usr/local/lib/python3.7/dist-packages (from requests>=2.19.0->datasets) (3.0.4)\n",
            "Requirement already satisfied: regex!=2019.12.17 in /usr/local/lib/python3.7/dist-packages (from transformers) (2019.12.20)\n",
            "Requirement already satisfied: tokenizers!=0.11.3,<0.13,>=0.11.1 in /usr/local/lib/python3.7/dist-packages (from transformers) (0.12.1)\n",
            "Requirement already satisfied: six>=1.14.0 in /usr/local/lib/python3.7/dist-packages (from rouge-score) (1.15.0)\n",
            "Requirement already satisfied: absl-py in /usr/local/lib/python3.7/dist-packages (from rouge-score) (1.0.0)\n",
            "Requirement already satisfied: attrs>=17.3.0 in /usr/local/lib/python3.7/dist-packages (from aiohttp->datasets) (21.4.0)\n",
            "Requirement already satisfied: aiosignal>=1.1.2 in /usr/local/lib/python3.7/dist-packages (from aiohttp->datasets) (1.2.0)\n",
            "Requirement already satisfied: frozenlist>=1.1.1 in /usr/local/lib/python3.7/dist-packages (from aiohttp->datasets) (1.3.0)\n",
            "Requirement already satisfied: multidict<7.0,>=4.5 in /usr/local/lib/python3.7/dist-packages (from aiohttp->datasets) (6.0.2)\n",
            "Requirement already satisfied: charset-normalizer<3.0,>=2.0 in /usr/local/lib/python3.7/dist-packages (from aiohttp->datasets) (2.0.12)\n",
            "Requirement already satisfied: yarl<2.0,>=1.0 in /usr/local/lib/python3.7/dist-packages (from aiohttp->datasets) (1.7.2)\n",
            "Requirement already satisfied: async-timeout<5.0,>=4.0.0a3 in /usr/local/lib/python3.7/dist-packages (from aiohttp->datasets) (4.0.2)\n",
            "Requirement already satisfied: asynctest==0.13.0 in /usr/local/lib/python3.7/dist-packages (from aiohttp->datasets) (0.13.0)\n",
            "Requirement already satisfied: zipp>=0.5 in /usr/local/lib/python3.7/dist-packages (from importlib-metadata->datasets) (3.8.0)\n",
            "Requirement already satisfied: python-dateutil>=2.7.3 in /usr/local/lib/python3.7/dist-packages (from pandas->datasets) (2.8.2)\n",
            "Requirement already satisfied: pytz>=2017.3 in /usr/local/lib/python3.7/dist-packages (from pandas->datasets) (2022.1)\n"
          ]
        }
      ],
      "source": [
        "! pip install datasets transformers rouge-score nltk"
      ]
    },
    {
      "cell_type": "code",
      "source": [
        "import numpy as np\n",
        "import pandas as pd\n",
        "from sklearn.model_selection import train_test_split\n",
        "import seaborn as sns\n",
        "\n",
        "import matplotlib.pyplot as plt\n",
        "import os"
      ],
      "metadata": {
        "id": "BXkprhe3RiPp"
      },
      "execution_count": null,
      "outputs": []
    },
    {
      "cell_type": "code",
      "source": [
        "from google.colab import drive\n",
        "drive.mount('/content/drive')"
      ],
      "metadata": {
        "colab": {
          "base_uri": "https://localhost:8080/"
        },
        "id": "xwqhmzH0zw9j",
        "outputId": "b164a11e-fadb-46db-a7a7-479bfb159e32"
      },
      "execution_count": null,
      "outputs": [
        {
          "output_type": "stream",
          "name": "stdout",
          "text": [
            "Drive already mounted at /content/drive; to attempt to forcibly remount, call drive.mount(\"/content/drive\", force_remount=True).\n"
          ]
        }
      ]
    },
    {
      "cell_type": "code",
      "execution_count": null,
      "metadata": {
        "id": "I-bYRj9wrAJi"
      },
      "outputs": [],
      "source": [
        "# from huggingface_hub import notebook_login\n",
        "\n",
        "# notebook_login()"
      ]
    },
    {
      "cell_type": "markdown",
      "metadata": {
        "id": "o-QBQqwJrAJj"
      },
      "source": [
        "Make sure your version of Transformers is at least 4.11.0 since the functionality was introduced in that version:"
      ]
    },
    {
      "cell_type": "code",
      "execution_count": null,
      "metadata": {
        "id": "GveNeKdQrAJj",
        "colab": {
          "base_uri": "https://localhost:8080/"
        },
        "outputId": "1f0032b7-5556-46ef-e2e1-d96ff75efe9f"
      },
      "outputs": [
        {
          "output_type": "stream",
          "name": "stdout",
          "text": [
            "4.19.2\n"
          ]
        }
      ],
      "source": [
        "import transformers\n",
        "\n",
        "print(transformers.__version__)"
      ]
    },
    {
      "cell_type": "markdown",
      "metadata": {
        "id": "rEJBSTyZIrIb"
      },
      "source": [
        "# Fine-tuning a model on a summarization task"
      ]
    },
    {
      "cell_type": "code",
      "execution_count": null,
      "metadata": {
        "id": "mSa-5KdhrAJk"
      },
      "outputs": [],
      "source": [
        "model_checkpoint = \"t5-small\""
      ]
    },
    {
      "cell_type": "markdown",
      "metadata": {
        "id": "whPRbBNbIrIl"
      },
      "source": [
        "## Loading the dataset"
      ]
    },
    {
      "cell_type": "code",
      "execution_count": null,
      "metadata": {
        "id": "IreSlFmlIrIm"
      },
      "outputs": [],
      "source": [
        "from datasets import load_dataset, load_metric\n",
        "\n",
        "# raw_datasets = load_dataset(\"xsum\")\n",
        "metric = load_metric(\"rouge\")"
      ]
    },
    {
      "cell_type": "code",
      "source": [
        "print( os.listdir('/content/drive') )\n",
        "data = pd.read_json(\"/content/drive/MyDrive/datasets_qa/qa_df.json\")\n",
        "data.head(n=10)"
      ],
      "metadata": {
        "colab": {
          "base_uri": "https://localhost:8080/",
          "height": 380
        },
        "id": "auYZf64J17OV",
        "outputId": "25093616-fbbf-4474-d0fa-061f2eb8e0f0"
      },
      "execution_count": null,
      "outputs": [
        {
          "output_type": "stream",
          "name": "stdout",
          "text": [
            "['.file-revisions-by-id', '.shortcut-targets-by-id', 'MyDrive', 'Othercomputers', '.Trash-0']\n"
          ]
        },
        {
          "output_type": "execute_result",
          "data": {
            "text/plain": [
              "     book_title                 chapter_name  \\\n",
              "0  Little Women  Little_Women_split_001.html   \n",
              "1  Little Women  Little_Women_split_002.html   \n",
              "2  Little Women  Little_Women_split_002.html   \n",
              "3  Little Women  Little_Women_split_004.html   \n",
              "4  Little Women  Little_Women_split_006.html   \n",
              "5  Little Women  Little_Women_split_006.html   \n",
              "6  Little Women  Little_Women_split_007.html   \n",
              "7  Little Women  Little_Women_split_007.html   \n",
              "8  Little Women  Little_Women_split_007.html   \n",
              "9  Little Women  Little_Women_split_007.html   \n",
              "\n",
              "                                             context       answer_start  \\\n",
              "0  table of contents from the pages of little wom...         [239, 159]   \n",
              "1  from the pages of little women \" christmas won...  [1848, 624, 1496]   \n",
              "2  mysterious and important. meg observed it, but...         [246, 925]   \n",
              "3  published by barnes & noble books 122 fifth av...                 []   \n",
              "4  louisa may alcott louisa may alcott was born o...                 []   \n",
              "5  in 1858 when her younger sister, elizabeth, di...                 []   \n",
              "6  the world of louisa may alcott and little wome...                 []   \n",
              "7  1844. 1844 emerson publishes essays : second s...                 []   \n",
              "8  she attends lectures by the liberal clergyman ...                 []   \n",
              "9  book form later in the year to great praise. a...                 []   \n",
              "\n",
              "                                                text  \n",
              "0                                [burdens, pilgrims]  \n",
              "1  [it takes people a long time to learn the diff...  \n",
              "2  [it takes people a long time to learn the diff...  \n",
              "3                                                 []  \n",
              "4                                                 []  \n",
              "5                                                 []  \n",
              "6                                                 []  \n",
              "7                                                 []  \n",
              "8                                                 []  \n",
              "9                                                 []  "
            ],
            "text/html": [
              "\n",
              "  <div id=\"df-2b74ab8e-7d35-4ad0-ade6-0c68a8e7e154\">\n",
              "    <div class=\"colab-df-container\">\n",
              "      <div>\n",
              "<style scoped>\n",
              "    .dataframe tbody tr th:only-of-type {\n",
              "        vertical-align: middle;\n",
              "    }\n",
              "\n",
              "    .dataframe tbody tr th {\n",
              "        vertical-align: top;\n",
              "    }\n",
              "\n",
              "    .dataframe thead th {\n",
              "        text-align: right;\n",
              "    }\n",
              "</style>\n",
              "<table border=\"1\" class=\"dataframe\">\n",
              "  <thead>\n",
              "    <tr style=\"text-align: right;\">\n",
              "      <th></th>\n",
              "      <th>book_title</th>\n",
              "      <th>chapter_name</th>\n",
              "      <th>context</th>\n",
              "      <th>answer_start</th>\n",
              "      <th>text</th>\n",
              "    </tr>\n",
              "  </thead>\n",
              "  <tbody>\n",
              "    <tr>\n",
              "      <th>0</th>\n",
              "      <td>Little Women</td>\n",
              "      <td>Little_Women_split_001.html</td>\n",
              "      <td>table of contents from the pages of little wom...</td>\n",
              "      <td>[239, 159]</td>\n",
              "      <td>[burdens, pilgrims]</td>\n",
              "    </tr>\n",
              "    <tr>\n",
              "      <th>1</th>\n",
              "      <td>Little Women</td>\n",
              "      <td>Little_Women_split_002.html</td>\n",
              "      <td>from the pages of little women \" christmas won...</td>\n",
              "      <td>[1848, 624, 1496]</td>\n",
              "      <td>[it takes people a long time to learn the diff...</td>\n",
              "    </tr>\n",
              "    <tr>\n",
              "      <th>2</th>\n",
              "      <td>Little Women</td>\n",
              "      <td>Little_Women_split_002.html</td>\n",
              "      <td>mysterious and important. meg observed it, but...</td>\n",
              "      <td>[246, 925]</td>\n",
              "      <td>[it takes people a long time to learn the diff...</td>\n",
              "    </tr>\n",
              "    <tr>\n",
              "      <th>3</th>\n",
              "      <td>Little Women</td>\n",
              "      <td>Little_Women_split_004.html</td>\n",
              "      <td>published by barnes &amp; noble books 122 fifth av...</td>\n",
              "      <td>[]</td>\n",
              "      <td>[]</td>\n",
              "    </tr>\n",
              "    <tr>\n",
              "      <th>4</th>\n",
              "      <td>Little Women</td>\n",
              "      <td>Little_Women_split_006.html</td>\n",
              "      <td>louisa may alcott louisa may alcott was born o...</td>\n",
              "      <td>[]</td>\n",
              "      <td>[]</td>\n",
              "    </tr>\n",
              "    <tr>\n",
              "      <th>5</th>\n",
              "      <td>Little Women</td>\n",
              "      <td>Little_Women_split_006.html</td>\n",
              "      <td>in 1858 when her younger sister, elizabeth, di...</td>\n",
              "      <td>[]</td>\n",
              "      <td>[]</td>\n",
              "    </tr>\n",
              "    <tr>\n",
              "      <th>6</th>\n",
              "      <td>Little Women</td>\n",
              "      <td>Little_Women_split_007.html</td>\n",
              "      <td>the world of louisa may alcott and little wome...</td>\n",
              "      <td>[]</td>\n",
              "      <td>[]</td>\n",
              "    </tr>\n",
              "    <tr>\n",
              "      <th>7</th>\n",
              "      <td>Little Women</td>\n",
              "      <td>Little_Women_split_007.html</td>\n",
              "      <td>1844. 1844 emerson publishes essays : second s...</td>\n",
              "      <td>[]</td>\n",
              "      <td>[]</td>\n",
              "    </tr>\n",
              "    <tr>\n",
              "      <th>8</th>\n",
              "      <td>Little Women</td>\n",
              "      <td>Little_Women_split_007.html</td>\n",
              "      <td>she attends lectures by the liberal clergyman ...</td>\n",
              "      <td>[]</td>\n",
              "      <td>[]</td>\n",
              "    </tr>\n",
              "    <tr>\n",
              "      <th>9</th>\n",
              "      <td>Little Women</td>\n",
              "      <td>Little_Women_split_007.html</td>\n",
              "      <td>book form later in the year to great praise. a...</td>\n",
              "      <td>[]</td>\n",
              "      <td>[]</td>\n",
              "    </tr>\n",
              "  </tbody>\n",
              "</table>\n",
              "</div>\n",
              "      <button class=\"colab-df-convert\" onclick=\"convertToInteractive('df-2b74ab8e-7d35-4ad0-ade6-0c68a8e7e154')\"\n",
              "              title=\"Convert this dataframe to an interactive table.\"\n",
              "              style=\"display:none;\">\n",
              "        \n",
              "  <svg xmlns=\"http://www.w3.org/2000/svg\" height=\"24px\"viewBox=\"0 0 24 24\"\n",
              "       width=\"24px\">\n",
              "    <path d=\"M0 0h24v24H0V0z\" fill=\"none\"/>\n",
              "    <path d=\"M18.56 5.44l.94 2.06.94-2.06 2.06-.94-2.06-.94-.94-2.06-.94 2.06-2.06.94zm-11 1L8.5 8.5l.94-2.06 2.06-.94-2.06-.94L8.5 2.5l-.94 2.06-2.06.94zm10 10l.94 2.06.94-2.06 2.06-.94-2.06-.94-.94-2.06-.94 2.06-2.06.94z\"/><path d=\"M17.41 7.96l-1.37-1.37c-.4-.4-.92-.59-1.43-.59-.52 0-1.04.2-1.43.59L10.3 9.45l-7.72 7.72c-.78.78-.78 2.05 0 2.83L4 21.41c.39.39.9.59 1.41.59.51 0 1.02-.2 1.41-.59l7.78-7.78 2.81-2.81c.8-.78.8-2.07 0-2.86zM5.41 20L4 18.59l7.72-7.72 1.47 1.35L5.41 20z\"/>\n",
              "  </svg>\n",
              "      </button>\n",
              "      \n",
              "  <style>\n",
              "    .colab-df-container {\n",
              "      display:flex;\n",
              "      flex-wrap:wrap;\n",
              "      gap: 12px;\n",
              "    }\n",
              "\n",
              "    .colab-df-convert {\n",
              "      background-color: #E8F0FE;\n",
              "      border: none;\n",
              "      border-radius: 50%;\n",
              "      cursor: pointer;\n",
              "      display: none;\n",
              "      fill: #1967D2;\n",
              "      height: 32px;\n",
              "      padding: 0 0 0 0;\n",
              "      width: 32px;\n",
              "    }\n",
              "\n",
              "    .colab-df-convert:hover {\n",
              "      background-color: #E2EBFA;\n",
              "      box-shadow: 0px 1px 2px rgba(60, 64, 67, 0.3), 0px 1px 3px 1px rgba(60, 64, 67, 0.15);\n",
              "      fill: #174EA6;\n",
              "    }\n",
              "\n",
              "    [theme=dark] .colab-df-convert {\n",
              "      background-color: #3B4455;\n",
              "      fill: #D2E3FC;\n",
              "    }\n",
              "\n",
              "    [theme=dark] .colab-df-convert:hover {\n",
              "      background-color: #434B5C;\n",
              "      box-shadow: 0px 1px 3px 1px rgba(0, 0, 0, 0.15);\n",
              "      filter: drop-shadow(0px 1px 2px rgba(0, 0, 0, 0.3));\n",
              "      fill: #FFFFFF;\n",
              "    }\n",
              "  </style>\n",
              "\n",
              "      <script>\n",
              "        const buttonEl =\n",
              "          document.querySelector('#df-2b74ab8e-7d35-4ad0-ade6-0c68a8e7e154 button.colab-df-convert');\n",
              "        buttonEl.style.display =\n",
              "          google.colab.kernel.accessAllowed ? 'block' : 'none';\n",
              "\n",
              "        async function convertToInteractive(key) {\n",
              "          const element = document.querySelector('#df-2b74ab8e-7d35-4ad0-ade6-0c68a8e7e154');\n",
              "          const dataTable =\n",
              "            await google.colab.kernel.invokeFunction('convertToInteractive',\n",
              "                                                     [key], {});\n",
              "          if (!dataTable) return;\n",
              "\n",
              "          const docLinkHtml = 'Like what you see? Visit the ' +\n",
              "            '<a target=\"_blank\" href=https://colab.research.google.com/notebooks/data_table.ipynb>data table notebook</a>'\n",
              "            + ' to learn more about interactive tables.';\n",
              "          element.innerHTML = '';\n",
              "          dataTable['output_type'] = 'display_data';\n",
              "          await google.colab.output.renderOutput(dataTable, element);\n",
              "          const docLink = document.createElement('div');\n",
              "          docLink.innerHTML = docLinkHtml;\n",
              "          element.appendChild(docLink);\n",
              "        }\n",
              "      </script>\n",
              "    </div>\n",
              "  </div>\n",
              "  "
            ]
          },
          "metadata": {},
          "execution_count": 9
        }
      ]
    },
    {
      "cell_type": "code",
      "source": [
        "data.iloc[0][\"text\"]"
      ],
      "metadata": {
        "colab": {
          "base_uri": "https://localhost:8080/"
        },
        "id": "5MxQU3NA3EuC",
        "outputId": "76de9903-53e4-40a2-a14c-2f79dd5e535f"
      },
      "execution_count": null,
      "outputs": [
        {
          "output_type": "execute_result",
          "data": {
            "text/plain": [
              "['burdens', 'pilgrims']"
            ]
          },
          "metadata": {},
          "execution_count": 10
        }
      ]
    },
    {
      "cell_type": "code",
      "source": [
        "sum_df = pd.DataFrame(columns=[\"text\",\"id\",\"quote\"])\n",
        "\n",
        "quote_count =0\n",
        "i=0\n",
        "for idx in range(len(data)):\n",
        "  for quote in data.iloc[idx][\"text\"]:\n",
        "    sum_df.loc[i]=[data.iloc[idx][\"context\"],i+1,quote]\n",
        "    i+=1\n",
        "    quote_count+=1\n",
        "\n",
        "\n"
      ],
      "metadata": {
        "id": "zVOT85OE4UgD"
      },
      "execution_count": null,
      "outputs": []
    },
    {
      "cell_type": "code",
      "source": [
        "sum_df.shape"
      ],
      "metadata": {
        "colab": {
          "base_uri": "https://localhost:8080/"
        },
        "id": "RLHrnKvV7KUm",
        "outputId": "29dd14bf-70b9-40b5-a167-44b5160c616e"
      },
      "execution_count": null,
      "outputs": [
        {
          "output_type": "execute_result",
          "data": {
            "text/plain": [
              "(4705, 3)"
            ]
          },
          "metadata": {},
          "execution_count": 12
        }
      ]
    },
    {
      "cell_type": "code",
      "source": [
        "quote_count"
      ],
      "metadata": {
        "colab": {
          "base_uri": "https://localhost:8080/"
        },
        "id": "VzxUj-nM-9ck",
        "outputId": "60c60d4c-13f5-4c4a-879c-2c97b0a7c55b"
      },
      "execution_count": null,
      "outputs": [
        {
          "output_type": "execute_result",
          "data": {
            "text/plain": [
              "4705"
            ]
          },
          "metadata": {},
          "execution_count": 13
        }
      ]
    },
    {
      "cell_type": "code",
      "source": [
        "sum_df.columns"
      ],
      "metadata": {
        "colab": {
          "base_uri": "https://localhost:8080/"
        },
        "id": "AleZV97oS0L8",
        "outputId": "e69fc1e6-bbc8-4b1b-b250-9dd97e62e214"
      },
      "execution_count": null,
      "outputs": [
        {
          "output_type": "execute_result",
          "data": {
            "text/plain": [
              "Index(['text', 'id', 'quote'], dtype='object')"
            ]
          },
          "metadata": {},
          "execution_count": 14
        }
      ]
    },
    {
      "cell_type": "code",
      "source": [
        "from datasets import Dataset\n",
        "from datasets.dataset_dict import DatasetDict\n",
        "\n",
        "dataset = Dataset.from_pandas(sum_df)\n",
        "train_testvalid = dataset.train_test_split(test_size=0.2)\n",
        "test_valid = train_testvalid['test'].train_test_split(test_size=0.5)\n",
        "train_test_valid_dataset = DatasetDict({\n",
        "    'train': train_testvalid['train'],\n",
        "    'test': test_valid['test'],\n",
        "    'valid': test_valid['train']\n",
        "    })\n"
      ],
      "metadata": {
        "id": "JBrsnsLlBANi"
      },
      "execution_count": null,
      "outputs": []
    },
    {
      "cell_type": "code",
      "source": [
        "sum_df[:5]"
      ],
      "metadata": {
        "id": "6i-ooV5oDrS6",
        "colab": {
          "base_uri": "https://localhost:8080/",
          "height": 206
        },
        "outputId": "6a7884d0-fced-444c-c965-d741558be07a"
      },
      "execution_count": null,
      "outputs": [
        {
          "output_type": "execute_result",
          "data": {
            "text/plain": [
              "                                                text id  \\\n",
              "0  table of contents from the pages of little wom...  1   \n",
              "1  table of contents from the pages of little wom...  2   \n",
              "2  from the pages of little women \" christmas won...  3   \n",
              "3  from the pages of little women \" christmas won...  4   \n",
              "4  from the pages of little women \" christmas won...  5   \n",
              "\n",
              "                                               quote  \n",
              "0                                            burdens  \n",
              "1                                           pilgrims  \n",
              "2  it takes people a long time to learn the diffe...  \n",
              "3  have regular hours for work and play, make eac...  \n",
              "4  jo's face was a study next day, for the secret...  "
            ],
            "text/html": [
              "\n",
              "  <div id=\"df-3150fda9-f56a-49e8-9375-778ca98d701e\">\n",
              "    <div class=\"colab-df-container\">\n",
              "      <div>\n",
              "<style scoped>\n",
              "    .dataframe tbody tr th:only-of-type {\n",
              "        vertical-align: middle;\n",
              "    }\n",
              "\n",
              "    .dataframe tbody tr th {\n",
              "        vertical-align: top;\n",
              "    }\n",
              "\n",
              "    .dataframe thead th {\n",
              "        text-align: right;\n",
              "    }\n",
              "</style>\n",
              "<table border=\"1\" class=\"dataframe\">\n",
              "  <thead>\n",
              "    <tr style=\"text-align: right;\">\n",
              "      <th></th>\n",
              "      <th>text</th>\n",
              "      <th>id</th>\n",
              "      <th>quote</th>\n",
              "    </tr>\n",
              "  </thead>\n",
              "  <tbody>\n",
              "    <tr>\n",
              "      <th>0</th>\n",
              "      <td>table of contents from the pages of little wom...</td>\n",
              "      <td>1</td>\n",
              "      <td>burdens</td>\n",
              "    </tr>\n",
              "    <tr>\n",
              "      <th>1</th>\n",
              "      <td>table of contents from the pages of little wom...</td>\n",
              "      <td>2</td>\n",
              "      <td>pilgrims</td>\n",
              "    </tr>\n",
              "    <tr>\n",
              "      <th>2</th>\n",
              "      <td>from the pages of little women \" christmas won...</td>\n",
              "      <td>3</td>\n",
              "      <td>it takes people a long time to learn the diffe...</td>\n",
              "    </tr>\n",
              "    <tr>\n",
              "      <th>3</th>\n",
              "      <td>from the pages of little women \" christmas won...</td>\n",
              "      <td>4</td>\n",
              "      <td>have regular hours for work and play, make eac...</td>\n",
              "    </tr>\n",
              "    <tr>\n",
              "      <th>4</th>\n",
              "      <td>from the pages of little women \" christmas won...</td>\n",
              "      <td>5</td>\n",
              "      <td>jo's face was a study next day, for the secret...</td>\n",
              "    </tr>\n",
              "  </tbody>\n",
              "</table>\n",
              "</div>\n",
              "      <button class=\"colab-df-convert\" onclick=\"convertToInteractive('df-3150fda9-f56a-49e8-9375-778ca98d701e')\"\n",
              "              title=\"Convert this dataframe to an interactive table.\"\n",
              "              style=\"display:none;\">\n",
              "        \n",
              "  <svg xmlns=\"http://www.w3.org/2000/svg\" height=\"24px\"viewBox=\"0 0 24 24\"\n",
              "       width=\"24px\">\n",
              "    <path d=\"M0 0h24v24H0V0z\" fill=\"none\"/>\n",
              "    <path d=\"M18.56 5.44l.94 2.06.94-2.06 2.06-.94-2.06-.94-.94-2.06-.94 2.06-2.06.94zm-11 1L8.5 8.5l.94-2.06 2.06-.94-2.06-.94L8.5 2.5l-.94 2.06-2.06.94zm10 10l.94 2.06.94-2.06 2.06-.94-2.06-.94-.94-2.06-.94 2.06-2.06.94z\"/><path d=\"M17.41 7.96l-1.37-1.37c-.4-.4-.92-.59-1.43-.59-.52 0-1.04.2-1.43.59L10.3 9.45l-7.72 7.72c-.78.78-.78 2.05 0 2.83L4 21.41c.39.39.9.59 1.41.59.51 0 1.02-.2 1.41-.59l7.78-7.78 2.81-2.81c.8-.78.8-2.07 0-2.86zM5.41 20L4 18.59l7.72-7.72 1.47 1.35L5.41 20z\"/>\n",
              "  </svg>\n",
              "      </button>\n",
              "      \n",
              "  <style>\n",
              "    .colab-df-container {\n",
              "      display:flex;\n",
              "      flex-wrap:wrap;\n",
              "      gap: 12px;\n",
              "    }\n",
              "\n",
              "    .colab-df-convert {\n",
              "      background-color: #E8F0FE;\n",
              "      border: none;\n",
              "      border-radius: 50%;\n",
              "      cursor: pointer;\n",
              "      display: none;\n",
              "      fill: #1967D2;\n",
              "      height: 32px;\n",
              "      padding: 0 0 0 0;\n",
              "      width: 32px;\n",
              "    }\n",
              "\n",
              "    .colab-df-convert:hover {\n",
              "      background-color: #E2EBFA;\n",
              "      box-shadow: 0px 1px 2px rgba(60, 64, 67, 0.3), 0px 1px 3px 1px rgba(60, 64, 67, 0.15);\n",
              "      fill: #174EA6;\n",
              "    }\n",
              "\n",
              "    [theme=dark] .colab-df-convert {\n",
              "      background-color: #3B4455;\n",
              "      fill: #D2E3FC;\n",
              "    }\n",
              "\n",
              "    [theme=dark] .colab-df-convert:hover {\n",
              "      background-color: #434B5C;\n",
              "      box-shadow: 0px 1px 3px 1px rgba(0, 0, 0, 0.15);\n",
              "      filter: drop-shadow(0px 1px 2px rgba(0, 0, 0, 0.3));\n",
              "      fill: #FFFFFF;\n",
              "    }\n",
              "  </style>\n",
              "\n",
              "      <script>\n",
              "        const buttonEl =\n",
              "          document.querySelector('#df-3150fda9-f56a-49e8-9375-778ca98d701e button.colab-df-convert');\n",
              "        buttonEl.style.display =\n",
              "          google.colab.kernel.accessAllowed ? 'block' : 'none';\n",
              "\n",
              "        async function convertToInteractive(key) {\n",
              "          const element = document.querySelector('#df-3150fda9-f56a-49e8-9375-778ca98d701e');\n",
              "          const dataTable =\n",
              "            await google.colab.kernel.invokeFunction('convertToInteractive',\n",
              "                                                     [key], {});\n",
              "          if (!dataTable) return;\n",
              "\n",
              "          const docLinkHtml = 'Like what you see? Visit the ' +\n",
              "            '<a target=\"_blank\" href=https://colab.research.google.com/notebooks/data_table.ipynb>data table notebook</a>'\n",
              "            + ' to learn more about interactive tables.';\n",
              "          element.innerHTML = '';\n",
              "          dataTable['output_type'] = 'display_data';\n",
              "          await google.colab.output.renderOutput(dataTable, element);\n",
              "          const docLink = document.createElement('div');\n",
              "          docLink.innerHTML = docLinkHtml;\n",
              "          element.appendChild(docLink);\n",
              "        }\n",
              "      </script>\n",
              "    </div>\n",
              "  </div>\n",
              "  "
            ]
          },
          "metadata": {},
          "execution_count": 16
        }
      ]
    },
    {
      "cell_type": "code",
      "source": [
        "raw_datasets = train_test_valid_dataset"
      ],
      "metadata": {
        "id": "gPKNdfWsTD8S"
      },
      "execution_count": null,
      "outputs": []
    },
    {
      "cell_type": "code",
      "execution_count": null,
      "metadata": {
        "id": "GWiVUF0jIrIv",
        "outputId": "f8bdbec1-8f29-4462-a79d-efe8a94e9fdc",
        "colab": {
          "base_uri": "https://localhost:8080/"
        }
      },
      "outputs": [
        {
          "output_type": "execute_result",
          "data": {
            "text/plain": [
              "DatasetDict({\n",
              "    train: Dataset({\n",
              "        features: ['text', 'id', 'quote', '__index_level_0__'],\n",
              "        num_rows: 3764\n",
              "    })\n",
              "    test: Dataset({\n",
              "        features: ['text', 'id', 'quote', '__index_level_0__'],\n",
              "        num_rows: 471\n",
              "    })\n",
              "    valid: Dataset({\n",
              "        features: ['text', 'id', 'quote', '__index_level_0__'],\n",
              "        num_rows: 470\n",
              "    })\n",
              "})"
            ]
          },
          "metadata": {},
          "execution_count": 18
        }
      ],
      "source": [
        "raw_datasets"
      ]
    },
    {
      "cell_type": "code",
      "execution_count": null,
      "metadata": {
        "id": "X6HrpprwIrIz",
        "outputId": "7c5584dd-1366-45e5-a08b-e0edb7df1b85",
        "colab": {
          "base_uri": "https://localhost:8080/"
        }
      },
      "outputs": [
        {
          "output_type": "execute_result",
          "data": {
            "text/plain": [
              "{'__index_level_0__': 658,\n",
              " 'id': 659,\n",
              " 'quote': 'deliquescent.',\n",
              " 'text': \"later on in life, you expect a bit of rest, don't you? you think you deserve it. i did, anyway. but then you begin to understand that the reward of merit is not life's business. also, when you are young, you think you can predict the likely pains and bleaknesses that age might bring. you imagine yourself being lonely, divorced, widowed ; children growing away from you, friends dying. you imagine the loss of status, the loss of desire - and desirability. you may go further and consider your own approaching death, which, despite what company you may muster, can only be faced alone. but all this is looking ahead. what you fail to do is look ahead, and then imagine yourself looking back from that future point. learning the new emotions that time brings. discovering, for example, that as the witnesses to your life diminish, there is less corroboration, and therefore less certainty, as to what you are or have been. even if you have assiduously kept records - in words, sound, pictures - you may find that you have attended to the wrong kind of record - keeping. what was the line adrian used to quote?'history is that certainty produced at the point where the imperfections of memory meet the inadequacies of documentation.'i still read a lot of history, and of course i've followed all the official history that's happened in my own lifetime - the fall of communism, mrs thatcher, 9 / 11, global warming - with the normal mixture of fear, anxiety and cautious optimism. but i've never felt the same about it - i've never quite trusted it - as i do events in greece and rome, or the british empire, or the russian revolution. perhaps i just feel safer with the history that's been more or less agreed upon. or perhaps it's that same paradox again : the history that happens underneath our noses ought to be the clearest, and yet it's the most deliquescent. we live in time, it bounds us and defines us, and time is supposed to measure history, isn't it? but if we can't understand time, can't grasp its mysteries of pace and progress, what chance do we have with history - even our own small, personal, largely undocumented piece of it? when we're young, everyone over the age of thirty looks middle\"}"
            ]
          },
          "metadata": {},
          "execution_count": 19
        }
      ],
      "source": [
        "raw_datasets[\"train\"][0]"
      ]
    },
    {
      "cell_type": "markdown",
      "metadata": {
        "id": "WHUmphG3IrI3"
      },
      "source": [
        "To get a sense of what the data looks like, the following function will show some examples picked randomly in the dataset."
      ]
    },
    {
      "cell_type": "code",
      "execution_count": null,
      "metadata": {
        "id": "i3j8APAoIrI3"
      },
      "outputs": [],
      "source": [
        "import datasets\n",
        "import random\n",
        "import pandas as pd\n",
        "from IPython.display import display, HTML\n",
        "\n",
        "def show_random_elements(dataset, num_examples=5):\n",
        "    assert num_examples <= len(dataset), \"Can't pick more elements than there are in the dataset.\"\n",
        "    picks = []\n",
        "    for _ in range(num_examples):\n",
        "        pick = random.randint(0, len(dataset)-1)\n",
        "        while pick in picks:\n",
        "            pick = random.randint(0, len(dataset)-1)\n",
        "        picks.append(pick)\n",
        "    \n",
        "    df = pd.DataFrame(dataset[picks])\n",
        "    for column, typ in dataset.features.items():\n",
        "        if isinstance(typ, datasets.ClassLabel):\n",
        "            df[column] = df[column].transform(lambda i: typ.names[i])\n",
        "    display(HTML(df.to_html()))"
      ]
    },
    {
      "cell_type": "code",
      "execution_count": null,
      "metadata": {
        "id": "SZy5tRB_IrI7",
        "outputId": "b57a9081-014a-4898-9070-e5a15805dac9",
        "colab": {
          "base_uri": "https://localhost:8080/",
          "height": 987
        }
      },
      "outputs": [
        {
          "output_type": "display_data",
          "data": {
            "text/plain": [
              "<IPython.core.display.HTML object>"
            ],
            "text/html": [
              "<table border=\"1\" class=\"dataframe\">\n",
              "  <thead>\n",
              "    <tr style=\"text-align: right;\">\n",
              "      <th></th>\n",
              "      <th>text</th>\n",
              "      <th>id</th>\n",
              "      <th>quote</th>\n",
              "      <th>__index_level_0__</th>\n",
              "    </tr>\n",
              "  </thead>\n",
              "  <tbody>\n",
              "    <tr>\n",
              "      <th>0</th>\n",
              "      <td>be a wonderful side effect. but at the end of the day, i do what i do because i like doing it. i have a friend who's a nun who has spent her entire life working to help the homeless of philadelphia. she is something close to a living saint. she is a tireless advocate for the poor and the suffering and the lost and the abandoned. and do you know why her charitable outreach is so effective? because she likes doing it. because it's enjoyable for her. otherwise it wouldn't work. otherwise, it would just be hard duty and grim martyrdom. but sister mary scullion is no martyr. she's a cheerful soul who's having a wonderful time living out the existence that best suits her nature and most brings her to life. it just so happens that she takes care of a lot of other people in the process - - but everyone can sense her genuine enjoyment behind the mission, which is ultimately why her presence is so healing. it's okay if your work is fun for you, is what i'm saying. it's also okay if your work is healing for you, or fascinating for you, or redemptive for you, or if it's maybe just a hobby that keeps you from going crazy. it's even okay if your work is totally frivolous. that's allowed. it's all allowed. your own reasons to create are reason enough. merely by pursuing what you love, you may inadvertently end up helping us plenty. ( \" there is no love which does not become help, \" taught the theologian paul tillich. ) do whatever brings you to life, then. follow your own fascinations, obsessions, and compulsions. trust them. create whatever causes a revolution in your heart. the rest of it will take care of itself. schooling i never got an advanced degree in writing. i don't have an advanced degree in anything, actually. i graduated from nyu with a bachelor's degree in political science ( because you have to major in something ) and i still feel lucky to have received what i consider to have been an excellent, old - fashioned, broad - minded liberal arts education. while i always knew that i wanted to be a writer, and while i took a few writing classes as an undergrad, i chose not to seek out a master's of fine arts in creative writing once i was finished at nyu. i was suspicious</td>\n",
              "      <td>540</td>\n",
              "      <td>do whatever brings you to life, then.</td>\n",
              "      <td>539</td>\n",
              "    </tr>\n",
              "    <tr>\n",
              "      <th>1</th>\n",
              "      <td>. doc daneeka hated to fly. he felt imprisoned in an airplane. in an airplane there was absolutely no place in the world to go except to another part of the airplane. doc daneeka had been told that people who enjoyed climbing into an airplane were really giving vent to a subconscious desire to climb back into the womb. he had been told this by yossarian, who made it possible for dan daneeka to collect his flight pay each month without ever climbing back into the womb. yossarian would persuade mcwatt to enter doc daneeka's name on his flight log for training missions or trips to rome. \" you know how it is, \" doc daneeka had wheedled, with a sly, conspiratorial wink. \" why take chances when i don't have to? \" \" sure, \" yossarian agreed. \" what difference does it make to anyone if i'm in the plane or not? \" \" no difference. \" \" sure, that's what i mean, \" doc daneeka said. \" a little grease is what makes this world go round. one hand washes the other. know what i mean? you scratch my back, i'll scratch yours. \" yossarian knew what he meant. \" that's not what i meant, \" doc daneeka said, as yossarian began scratching his back. \" i'm talking about co - operation. favors. you do a favor for me, i'll do one for you. get it? \" \" do one for me, \" yossarian requested. \" not a chance, \" doc daneeka answered. there was something fearful and minute about doc daneeka as he sat despondently outside his tent in the sunlight as often as he could, dressed in khaki summer trousers and a short - sleeved summer shirt that was bleached almost to an antiseptic gray by the daily laundering to which he had it subjected. he was like a man who had grown frozen with horror once and had never come completely unthawed. he sat all tucked up into himself, his slender shoulders huddled halfway around his head, his suntanned hands with their luminous silver fingernails massaging the backs of his bare, folded arms gently as though he were cold. actually, he was a very warm, compassionate man who never stopped feeling sorry for himself. \" why me? \" was his constant lament, and the</td>\n",
              "      <td>2530</td>\n",
              "      <td>he felt imprisoned in an airplane. in an airplane there was absolutely no place in the world to go except to another part of the airplane.</td>\n",
              "      <td>2529</td>\n",
              "    </tr>\n",
              "    <tr>\n",
              "      <th>2</th>\n",
              "      <td>t really think about what that means until now. patrick told me the story about him and brad, and now i understand why patrick didn't get angry at brad at the homecoming dance for dancing with a girl. when they were both juniors, patrick and brad were at a party together with the rest of the popular kids. patrick actually used to be popular before sam bought him some good music. patrick and brad both got pretty drunk at this party. actually, patrick said that brad was pretending to be a lot drunker than he really was. they were sitting in the basement with some girl named heather, and when she left to go to the bathroom, brad and patrick were left alone. patrick said it was uncomfortable and exciting for both of them. \" you're in mr. brosnahan's class, right? \" \" have you ever gone to a pink floyd laser light show? \" \" beer before liquor. never sicker. \" when they ran out of small talk, they just looked at each other. and they ended up fooling around right there in the basement. patrick said it was like the weight of the whole world left both their shoulders. but monday in school, brad kept saying the same thing. \" man, i was so wasted. i don't remember a thing. \" he said it to everyone who was at the party. he said it a few times to the same people. he even said it to patrick. nobody saw patrick and brad fool around, but brad kept saying it anyway. that friday, there was another party. and this time, patrick and brad got stoned although patrick said that brad was pretending to be a lot more stoned than he really was. and they ended up fooling around again. and monday in school, brad did the same thing. \" man, i was so wasted. i don't remember a thing. \" this went on for seven months. it got to a point where brad was getting stoned or drunk before school. it's not like he and patrick were fooling around in school. they only fooled around at parties on fridays, but patrick said brad couldn't even look at him in the hall, let alone speak with him. and it was hard, too, because patrick really liked brad. when summer came, brad didn't have to worry about school or anything, so his drinking and smoking got a lot worse. there was a big party at patrick and sam's</td>\n",
              "      <td>3653</td>\n",
              "      <td>patrick actually used to be popular before sam bought him some good music.</td>\n",
              "      <td>3652</td>\n",
              "    </tr>\n",
              "    <tr>\n",
              "      <th>3</th>\n",
              "      <td>the hot pools too. osha looked different, though, hard and sharp instead of soft and curvy. her legs were all sinew, her breasts flat as two empty purses. \" you've got a lot of scars. \" \" every one hard earned. \" she picked up her brown shift, shook some leaves off of it, and pulled it down over her head. \" fighting giants? \" osha claimed there were still giants beyond the wall. one day maybe i'll even see one... \" fighting men. \" she belted herself with a length of rope. \" black crows, oft as not. killed me one too, \" she said, shaking out her hair. it had grown since she'd come to winterfell, well down past her ears. she looked softer than the woman who had once tried to rob and kill him in the wolfswood. \" heard some yattering in the kitchen today about you and them freys. \" \" who? what did they say? \" she gave him a sour grin. \" that it's a fool boy who mocks a giant, and a mad world when a cripple has to defend him. \" \" hodor never knew they were mocking him, \" bran said. \" anyhow he never fights. \" he remembered once when he was little, going to the market square with his mother and septa mordane. they brought hodor to carry for them, but he had wandered away, and when they found him some boys had him backed into an alley, poking him with sticks. \" hodor! \" he kept shouting, cringing and covering himself, but he had never raised a hand against his tormentors. \" septon chayle says he has a gentle spirit. \" \" aye, \" she said, \" and hands strong enough to twist a man's head off his shoulders, if he takes a mind to. all the same, he better watch his back around that walder. him and you both. the big one they call little, it comes to me he's well named. big outside, little inside, and mean down to the bones. \" \" he'd never dare hurt me. he's scared of summer, no matter what he says. \" \" then might be he's not so stupid as he seems. \" osha was always wary around the direwolves. the day she was taken,</td>\n",
              "      <td>2200</td>\n",
              "      <td>it's a fool boy who mocks a giant, and a mad world when a cripple has to defend him.</td>\n",
              "      <td>2199</td>\n",
              "    </tr>\n",
              "    <tr>\n",
              "      <th>4</th>\n",
              "      <td>never truly had that luxury. i think you know. i write you in your fifteenth year. i am writing you because this was the year you saw eric garner choked to death for selling cigarettes ; because you know now that renisha mcbride was shot for seeking help, that john crawford was shot down for browsing in a department store. and you have seen men in uniform drive by and murder tamir rice, a twelve - year - old child whom they were oath - bound to protect. and you have seen men in the same uniforms pummel marlene pinnock, someone's grandmother, on the side of a road. and you know now, if you did not before, that the police departments of your country have been endowed with the authority to destroy your body. it does not matter if the destruction is the result of an unfortunate overreaction. it does not matter if it originates in a misunderstanding. it does not matter if the destruction springs from a foolish policy. sell cigarettes without the proper authority and your body can be destroyed. resent the people trying to entrap your body and it can be destroyed. turn into a dark stairwell and your body can be destroyed. the destroyers will rarely be held accountable. mostly they will receive pensions. and destruction is merely the superlative form of a dominion whose prerogatives include friskings, detainings, beatings, and humiliations. all of this is common to black people. and all of this is old for black people. no one is held responsible. there is nothing uniquely evil in these destroyers or even in this moment. the destroyers are merely men enforcing the whims of our country, correctly interpreting its heritage and legacy. it is hard to face this. but all our phrasing - - race relations, racial chasm, racial justice, racial profiling, white privilege, even white supremacy - - serves to obscure that racism is a visceral experience, that it dislodges brains, blocks airways, rips muscle, extracts organs, cracks bones, breaks teeth. you must never look away from this. you must always remember that the sociology, the history, the economics, the graphs, the charts, the regressions all land, with great violence, upon the body. that sunday, with that host, on that news show, i tried to explain this as best i could within the time allotted. but at the end of the segment, the host flashed a widely shared picture of</td>\n",
              "      <td>152</td>\n",
              "      <td>there is nothing uniquely evil in these destroyers or even in this moment. the destroyers are merely men enforcing the whims of our country, correctly interpreting its heritage and legacy.</td>\n",
              "      <td>151</td>\n",
              "    </tr>\n",
              "  </tbody>\n",
              "</table>"
            ]
          },
          "metadata": {}
        }
      ],
      "source": [
        "show_random_elements(raw_datasets[\"train\"])"
      ]
    },
    {
      "cell_type": "markdown",
      "metadata": {
        "id": "lnjDIuQ3IrI-"
      },
      "source": [
        "The metric is an instance of [`datasets.Metric`](https://huggingface.co/docs/datasets/package_reference/main_classes.html#datasets.Metric):"
      ]
    },
    {
      "cell_type": "code",
      "execution_count": null,
      "metadata": {
        "id": "5o4rUteaIrI_",
        "outputId": "bc879ff4-d5df-4756-8bca-c57be3644375",
        "colab": {
          "base_uri": "https://localhost:8080/"
        }
      },
      "outputs": [
        {
          "output_type": "execute_result",
          "data": {
            "text/plain": [
              "Metric(name: \"rouge\", features: {'predictions': Value(dtype='string', id='sequence'), 'references': Value(dtype='string', id='sequence')}, usage: \"\"\"\n",
              "Calculates average rouge scores for a list of hypotheses and references\n",
              "Args:\n",
              "    predictions: list of predictions to score. Each prediction\n",
              "        should be a string with tokens separated by spaces.\n",
              "    references: list of reference for each prediction. Each\n",
              "        reference should be a string with tokens separated by spaces.\n",
              "    rouge_types: A list of rouge types to calculate.\n",
              "        Valid names:\n",
              "        `\"rouge{n}\"` (e.g. `\"rouge1\"`, `\"rouge2\"`) where: {n} is the n-gram based scoring,\n",
              "        `\"rougeL\"`: Longest common subsequence based scoring.\n",
              "        `\"rougeLSum\"`: rougeLsum splits text using `\"\n",
              "\"`.\n",
              "        See details in https://github.com/huggingface/datasets/issues/617\n",
              "    use_stemmer: Bool indicating whether Porter stemmer should be used to strip word suffixes.\n",
              "    use_aggregator: Return aggregates if this is set to True\n",
              "Returns:\n",
              "    rouge1: rouge_1 (precision, recall, f1),\n",
              "    rouge2: rouge_2 (precision, recall, f1),\n",
              "    rougeL: rouge_l (precision, recall, f1),\n",
              "    rougeLsum: rouge_lsum (precision, recall, f1)\n",
              "Examples:\n",
              "\n",
              "    >>> rouge = datasets.load_metric('rouge')\n",
              "    >>> predictions = [\"hello there\", \"general kenobi\"]\n",
              "    >>> references = [\"hello there\", \"general kenobi\"]\n",
              "    >>> results = rouge.compute(predictions=predictions, references=references)\n",
              "    >>> print(list(results.keys()))\n",
              "    ['rouge1', 'rouge2', 'rougeL', 'rougeLsum']\n",
              "    >>> print(results[\"rouge1\"])\n",
              "    AggregateScore(low=Score(precision=1.0, recall=1.0, fmeasure=1.0), mid=Score(precision=1.0, recall=1.0, fmeasure=1.0), high=Score(precision=1.0, recall=1.0, fmeasure=1.0))\n",
              "    >>> print(results[\"rouge1\"].mid.fmeasure)\n",
              "    1.0\n",
              "\"\"\", stored examples: 0)"
            ]
          },
          "metadata": {},
          "execution_count": 22
        }
      ],
      "source": [
        "metric"
      ]
    },
    {
      "cell_type": "markdown",
      "metadata": {
        "id": "jAWdqcUBIrJC"
      },
      "source": [
        "You can call its `compute` method with your predictions and labels, which need to be list of decoded strings:"
      ]
    },
    {
      "cell_type": "code",
      "execution_count": null,
      "metadata": {
        "id": "6XN1Rq0aIrJC",
        "outputId": "263b198b-bee7-45d5-fc86-cc7ade450f38",
        "colab": {
          "base_uri": "https://localhost:8080/"
        }
      },
      "outputs": [
        {
          "output_type": "execute_result",
          "data": {
            "text/plain": [
              "{'rouge1': AggregateScore(low=Score(precision=1.0, recall=1.0, fmeasure=1.0), mid=Score(precision=1.0, recall=1.0, fmeasure=1.0), high=Score(precision=1.0, recall=1.0, fmeasure=1.0)),\n",
              " 'rouge2': AggregateScore(low=Score(precision=1.0, recall=1.0, fmeasure=1.0), mid=Score(precision=1.0, recall=1.0, fmeasure=1.0), high=Score(precision=1.0, recall=1.0, fmeasure=1.0)),\n",
              " 'rougeL': AggregateScore(low=Score(precision=1.0, recall=1.0, fmeasure=1.0), mid=Score(precision=1.0, recall=1.0, fmeasure=1.0), high=Score(precision=1.0, recall=1.0, fmeasure=1.0)),\n",
              " 'rougeLsum': AggregateScore(low=Score(precision=1.0, recall=1.0, fmeasure=1.0), mid=Score(precision=1.0, recall=1.0, fmeasure=1.0), high=Score(precision=1.0, recall=1.0, fmeasure=1.0))}"
            ]
          },
          "metadata": {},
          "execution_count": 23
        }
      ],
      "source": [
        "fake_preds = [\"hello there\", \"general kenobi\"]\n",
        "fake_labels = [\"hello there\", \"general kenobi\"]\n",
        "metric.compute(predictions=fake_preds, references=fake_labels)"
      ]
    },
    {
      "cell_type": "markdown",
      "metadata": {
        "id": "n9qywopnIrJH"
      },
      "source": [
        "## Preprocessing the data"
      ]
    },
    {
      "cell_type": "code",
      "execution_count": null,
      "metadata": {
        "id": "eXNLu_-nIrJI",
        "colab": {
          "base_uri": "https://localhost:8080/"
        },
        "outputId": "4282bb33-e722-4e4d-842b-cd41b3f7f125"
      },
      "outputs": [
        {
          "output_type": "stream",
          "name": "stderr",
          "text": [
            "/usr/local/lib/python3.7/dist-packages/transformers/models/t5/tokenization_t5_fast.py:161: FutureWarning: This tokenizer was incorrectly instantiated with a model max length of 512 which will be corrected in Transformers v5.\n",
            "For now, this behavior is kept to avoid breaking backwards compatibility when padding/encoding with `truncation is True`.\n",
            "- Be aware that you SHOULD NOT rely on t5-small automatically truncating your input to 512 when padding/encoding.\n",
            "- If you want to encode/pad to sequences longer than 512 you can either instantiate this tokenizer with `model_max_length` or pass `max_length` when encoding/padding.\n",
            "- To avoid this warning, please instantiate this tokenizer with `model_max_length` set to your preferred value.\n",
            "  FutureWarning,\n"
          ]
        }
      ],
      "source": [
        "from transformers import AutoTokenizer\n",
        "    \n",
        "tokenizer = AutoTokenizer.from_pretrained(model_checkpoint)"
      ]
    },
    {
      "cell_type": "markdown",
      "metadata": {
        "id": "rowT4iCLIrJK"
      },
      "source": [
        "You can directly call this tokenizer on one sentence or a pair of sentences:"
      ]
    },
    {
      "cell_type": "code",
      "execution_count": null,
      "metadata": {
        "id": "a5hBlsrHIrJL",
        "outputId": "aac07301-c7ed-4e95-a823-eecf88fafecb",
        "colab": {
          "base_uri": "https://localhost:8080/"
        }
      },
      "outputs": [
        {
          "output_type": "execute_result",
          "data": {
            "text/plain": [
              "{'input_ids': [8774, 6, 48, 80, 7142, 55, 1], 'attention_mask': [1, 1, 1, 1, 1, 1, 1]}"
            ]
          },
          "metadata": {},
          "execution_count": 25
        }
      ],
      "source": [
        "tokenizer(\"Hello, this one sentence!\")"
      ]
    },
    {
      "cell_type": "code",
      "execution_count": null,
      "metadata": {
        "id": "sRTBKSbJrAJn",
        "outputId": "28cfc730-c314-4cb9-c4ab-70d870c813f8",
        "colab": {
          "base_uri": "https://localhost:8080/"
        }
      },
      "outputs": [
        {
          "output_type": "execute_result",
          "data": {
            "text/plain": [
              "{'input_ids': [[8774, 6, 48, 80, 7142, 55, 1], [100, 19, 430, 7142, 5, 1]], 'attention_mask': [[1, 1, 1, 1, 1, 1, 1], [1, 1, 1, 1, 1, 1]]}"
            ]
          },
          "metadata": {},
          "execution_count": 26
        }
      ],
      "source": [
        "tokenizer([\"Hello, this one sentence!\", \"This is another sentence.\"])"
      ]
    },
    {
      "cell_type": "code",
      "execution_count": null,
      "metadata": {
        "id": "UwCoy3derAJo",
        "outputId": "40578ee0-6616-415b-a526-4cc11c89d4c3",
        "colab": {
          "base_uri": "https://localhost:8080/"
        }
      },
      "outputs": [
        {
          "output_type": "stream",
          "name": "stdout",
          "text": [
            "{'input_ids': [[8774, 6, 48, 80, 7142, 55, 1], [100, 19, 430, 7142, 5, 1]], 'attention_mask': [[1, 1, 1, 1, 1, 1, 1], [1, 1, 1, 1, 1, 1]]}\n"
          ]
        }
      ],
      "source": [
        "with tokenizer.as_target_tokenizer():\n",
        "    print(tokenizer([\"Hello, this one sentence!\", \"This is another sentence.\"]))"
      ]
    },
    {
      "cell_type": "markdown",
      "metadata": {
        "id": "2C0hcmp9IrJQ"
      },
      "source": [
        "If you are using one of the five T5 checkpoints we have to prefix the inputs with \"summarize:\" (the model can also translate and it needs the prefix to know which task it has to perform)."
      ]
    },
    {
      "cell_type": "code",
      "execution_count": null,
      "metadata": {
        "id": "jfWn2UBjrAJo"
      },
      "outputs": [],
      "source": [
        "# if model_checkpoint in [\"t5-small\", \"t5-base\", \"t5-larg\", \"t5-3b\", \"t5-11b\"]:\n",
        "#     prefix = \"summarize: \"\n",
        "# else:\n",
        "#     prefix = \"\""
      ]
    },
    {
      "cell_type": "code",
      "execution_count": null,
      "metadata": {
        "id": "vc0BSBLIIrJQ"
      },
      "outputs": [],
      "source": [
        "max_input_length = 512\n",
        "max_target_length = 128\n",
        "\n",
        "def preprocess_function(examples):\n",
        "    inputs = [doc for doc in examples[\"text\"]]\n",
        "    model_inputs = tokenizer(inputs, max_length=max_input_length, truncation=True)\n",
        "\n",
        "    # Setup the tokenizer for targets\n",
        "    with tokenizer.as_target_tokenizer():\n",
        "        labels = tokenizer(examples[\"quote\"], max_length=max_target_length, truncation=True)\n",
        "\n",
        "    model_inputs[\"labels\"] = labels[\"input_ids\"]\n",
        "    return model_inputs"
      ]
    },
    {
      "cell_type": "markdown",
      "metadata": {
        "id": "0lm8ozrJIrJR"
      },
      "source": [
        "This function works with one or several examples. In the case of several examples, the tokenizer will return a list of lists for each key:"
      ]
    },
    {
      "cell_type": "code",
      "execution_count": null,
      "metadata": {
        "id": "-b70jh26IrJS",
        "outputId": "fefd7b9d-0e7e-44e9-e8ee-4541e2b6a369",
        "colab": {
          "base_uri": "https://localhost:8080/"
        }
      },
      "outputs": [
        {
          "output_type": "execute_result",
          "data": {
            "text/plain": [
              "{'input_ids': [[865, 30, 16, 280, 6, 25, 1672, 3, 9, 720, 13, 880, 6, 278, 31, 17, 25, 58, 25, 317, 25, 9092, 34, 5, 3, 23, 410, 6, 6161, 5, 68, 258, 25, 1731, 12, 734, 24, 8, 9676, 13, 7565, 19, 59, 280, 31, 7, 268, 5, 92, 6, 116, 25, 33, 1021, 6, 25, 317, 25, 54, 9689, 8, 952, 1406, 7, 11, 3, 2296, 1639, 655, 15, 7, 24, 1246, 429, 830, 5, 25, 3034, 909, 271, 23633, 6, 7759, 26, 6, 23428, 15, 26, 3, 117, 502, 1710, 550, 45, 25, 6, 803, 13677, 5, 25, 3034, 8, 1453, 13, 2637, 6, 8, 1453, 13, 3667, 3, 18, 11, 93, 23, 52, 2020, 5, 25, 164, 281, 856, 11, 1099, 39, 293, 16009, 1687, 6, 84, 6, 3, 3565, 125, 349, 25, 164, 398, 49, 6, 54, 163, 36, 7865, 2238, 5, 68, 66, 48, 19, 479, 2177, 5, 125, 25, 5124, 12, 103, 19, 320, 2177, 6, 11, 258, 3034, 909, 479, 223, 45, 24, 647, 500, 5, 1036, 8, 126, 7848, 24, 97, 3200, 5, 17452, 6, 21, 677, 6, 24, 38, 8, 20837, 12, 39, 280, 26999, 6, 132, 19, 705, 4301, 23801, 2661, 6, 11, 2459, 705, 24848, 6, 38, 12, 125, 25, 33, 42, 43, 118, 5, 237, 3, 99, 25, 43, 3, 6500, 1259, 11937, 2697, 3187, 3, 18, 16, 1234, 6, 1345, 6, 1933, 3, 18, 25, 164, 253, 24, 25, 43, 5526, 12, 8, 1786, 773, 13, 1368, 3, 18, 2627, 5, 125, 47, 8, 689, 3, 9, 26, 5288, 261, 12, 5035, 58, 31, 10193, 10972, 19, 24, 24848, 2546, 44, 8, 500, 213, 8, 31475, 13, 2594, 942, 8, 16, 9, 221, 4960, 6267, 7, 13, 7192, 5, 31, 23, 341, 608, 3, 9, 418, 13, 892, 6, 11, 13, 503, 3, 23, 31, 162, 2348, 66, 8, 2314, 892, 24, 31, 7, 2817, 16, 82, 293, 6556, 3, 18, 8, 1590, 13, 6639, 159, 51, 6, 3, 51, 52, 7, 24, 1703, 6, 668, 3, 87, 9694, 1252, 14811, 3, 18, 28, 8, 1389, 4989, 13, 2971, 6, 6261, 11, 20917, 24543, 5, 68, 3, 23, 31, 162, 470, 1800, 8, 337, 81, 34, 3, 18, 3, 23, 31, 162, 470, 882, 7731, 34, 3, 18, 38, 3, 23, 103, 984, 16, 3, 3584, 15, 565, 11, 3, 11956, 6, 42, 8, 3, 2160, 17, 1273, 21039, 6, 42, 8, 3, 26165, 29, 9481, 5, 2361, 3, 23, 131, 473, 14289, 28, 8, 892, 24, 31, 7, 118, 72, 42, 705, 4686, 1286, 5, 42, 2361, 34, 31, 7, 24, 337, 23517, 541, 3, 10, 8, 892, 24, 2906, 13483, 69, 8820, 7, 8204, 12, 36, 8, 964, 222, 6, 11, 780, 34, 31, 7, 8, 167, 20, 11036, 7, 3728, 5, 62, 619, 16, 97, 6, 34, 8120, 7, 178, 11, 17692, 178, 6, 11, 97, 19, 5741, 12, 3613, 892, 6, 19, 29, 31, 17, 34, 58, 68, 3, 99, 62, 54, 31, 17, 734, 97, 6, 54, 31, 17, 14304, 165, 29063, 13, 1], [3, 9, 126, 2306, 6, 21039, 7018, 40, 18538, 6, 11, 160, 17, 172, 5003, 1940, 3, 9, 2405, 24, 79, 1944, 30, 2476, 31, 7, 306, 3, 18, 5256, 919, 3869, 5, 8, 167, 14538, 1463, 6, 96, 116, 8, 706, 639, 7306, 45, 8, 5796, 6, 96, 28, 165, 3, 9, 10496, 9, 120, 102, 1225, 1569, 6, 3776, 2016, 21, 8, 2272, 6, 68, 2476, 737, 31, 17, 114, 34, 5, 34, 3, 7, 14471, 966, 5025, 32, 6, 11, 3, 88, 3, 122, 14351, 9203, 3, 15585, 24, 3, 26, 63, 1618, 141, 118, 352, 323, 6321, 437, 1717, 30, 8, 6542, 5, 78, 160, 17, 172, 5003, 2301, 8, 11769, 12, 8, 336, 2324, 30, 8, 2306, 6, 96, 2164, 2053, 6, 96, 84, 47, 3, 9, 650, 3, 9, 3422, 7, 1225, 381, 4767, 3, 26, 63, 1618, 2238, 30, 5507, 11, 29610, 9, 5, 34, 47, 2684, 11, 24746, 1329, 11, 6, 160, 17, 172, 5003, 3, 20964, 6, 133, 5607, 2476, 13, 8, 2283, 3, 26, 63, 1618, 6542, 3, 88, 78, 1858, 5, 68, 2476, 737, 31, 17, 114, 24, 2324, 893, 11, 141, 150, 3667, 12, 1616, 8, 880, 13, 8, 2306, 5, 2476, 31, 7, 147, 29286, 6363, 47, 734, 179, 5, 3, 7, 1497, 1306, 141, 728, 118, 3, 9, 2353, 2320, 12, 376, 5, 78, 141, 3, 20068, 15, 3946, 10701, 9, 5, 78, 141, 768, 10666, 2480, 5, 24, 471, 66, 386, 141, 13876, 376, 5, 96, 34, 2347, 223, 12, 8, 1659, 1829, 13, 271, 12967, 44, 46, 778, 1246, 6, 96, 112, 1565, 11, 6297, 873, 1677, 15, 3, 5493, 63, 865, 243, 5, 96, 34, 31, 7, 3, 9, 1659, 294, 13, 112, 293, 9735, 1863, 6, 11, 34, 17692, 12, 2448, 113, 3, 88, 19, 5, 96, 2476, 3, 24312, 203, 865, 6, 96, 3, 23, 1800, 114, 3, 23, 31, 26, 118, 4930, 4513, 6, 8, 799, 7673, 15, 26, 91, 13, 140, 11, 3, 23, 2654, 31, 17, 13418, 5, 96, 5489, 8, 380, 13, 768, 10666, 2480, 47, 902, 10875, 5, 96, 768, 10666, 141, 118, 114, 3, 9, 2353, 12, 140, 6, 96, 2476, 243, 5, 96, 3, 88, 808, 140, 365, 112, 3, 3108, 5, 96, 2480, 141, 4436, 376, 81, 6329, 6, 11, 3, 88, 11, 112, 2512, 6, 12, 29, 23, 6, 141, 118, 112, 9855, 16, 3, 7, 152, 2515, 11389, 3523, 11, 38, 3208, 5, 96, 3, 23, 1423, 2191, 139, 3, 7, 152, 2515, 11389, 3523, 80, 97, 6, 11, 3, 23, 243, 12, 376, 6, 31, 839, 26, 6, 24, 2137, 13, 3, 23064, 740, 19, 18754, 6, 31, 232, 3, 88, 243, 6, 31, 29, 32, 6, 34, 31, 7, 8, 200, 6, 31, 232, 3, 88, 8669, 15, 26, 12, 7177, 140, 6, 11, 3, 88, 47, 269, 13, 503, 5, 96, 203, 865, 2476, 31, 7, 2053, 168, 15, 26, 28, 12795, 38, 3, 88, 27866, 15, 26, 8, 733, 3, 10, 96, 3, 88, 3260, 3, 7, 1497, 1]], 'attention_mask': [[1, 1, 1, 1, 1, 1, 1, 1, 1, 1, 1, 1, 1, 1, 1, 1, 1, 1, 1, 1, 1, 1, 1, 1, 1, 1, 1, 1, 1, 1, 1, 1, 1, 1, 1, 1, 1, 1, 1, 1, 1, 1, 1, 1, 1, 1, 1, 1, 1, 1, 1, 1, 1, 1, 1, 1, 1, 1, 1, 1, 1, 1, 1, 1, 1, 1, 1, 1, 1, 1, 1, 1, 1, 1, 1, 1, 1, 1, 1, 1, 1, 1, 1, 1, 1, 1, 1, 1, 1, 1, 1, 1, 1, 1, 1, 1, 1, 1, 1, 1, 1, 1, 1, 1, 1, 1, 1, 1, 1, 1, 1, 1, 1, 1, 1, 1, 1, 1, 1, 1, 1, 1, 1, 1, 1, 1, 1, 1, 1, 1, 1, 1, 1, 1, 1, 1, 1, 1, 1, 1, 1, 1, 1, 1, 1, 1, 1, 1, 1, 1, 1, 1, 1, 1, 1, 1, 1, 1, 1, 1, 1, 1, 1, 1, 1, 1, 1, 1, 1, 1, 1, 1, 1, 1, 1, 1, 1, 1, 1, 1, 1, 1, 1, 1, 1, 1, 1, 1, 1, 1, 1, 1, 1, 1, 1, 1, 1, 1, 1, 1, 1, 1, 1, 1, 1, 1, 1, 1, 1, 1, 1, 1, 1, 1, 1, 1, 1, 1, 1, 1, 1, 1, 1, 1, 1, 1, 1, 1, 1, 1, 1, 1, 1, 1, 1, 1, 1, 1, 1, 1, 1, 1, 1, 1, 1, 1, 1, 1, 1, 1, 1, 1, 1, 1, 1, 1, 1, 1, 1, 1, 1, 1, 1, 1, 1, 1, 1, 1, 1, 1, 1, 1, 1, 1, 1, 1, 1, 1, 1, 1, 1, 1, 1, 1, 1, 1, 1, 1, 1, 1, 1, 1, 1, 1, 1, 1, 1, 1, 1, 1, 1, 1, 1, 1, 1, 1, 1, 1, 1, 1, 1, 1, 1, 1, 1, 1, 1, 1, 1, 1, 1, 1, 1, 1, 1, 1, 1, 1, 1, 1, 1, 1, 1, 1, 1, 1, 1, 1, 1, 1, 1, 1, 1, 1, 1, 1, 1, 1, 1, 1, 1, 1, 1, 1, 1, 1, 1, 1, 1, 1, 1, 1, 1, 1, 1, 1, 1, 1, 1, 1, 1, 1, 1, 1, 1, 1, 1, 1, 1, 1, 1, 1, 1, 1, 1, 1, 1, 1, 1, 1, 1, 1, 1, 1, 1, 1, 1, 1, 1, 1, 1, 1, 1, 1, 1, 1, 1, 1, 1, 1, 1, 1, 1, 1, 1, 1, 1, 1, 1, 1, 1, 1, 1, 1, 1, 1, 1, 1, 1, 1, 1, 1, 1, 1, 1, 1, 1, 1, 1, 1, 1, 1, 1, 1, 1, 1, 1, 1, 1, 1, 1, 1, 1, 1, 1, 1, 1, 1, 1, 1, 1, 1, 1, 1, 1, 1, 1, 1, 1, 1, 1, 1, 1, 1, 1, 1, 1, 1, 1, 1, 1, 1, 1, 1, 1, 1, 1, 1, 1, 1, 1, 1, 1, 1, 1, 1, 1, 1, 1, 1, 1, 1, 1, 1, 1, 1, 1, 1, 1, 1, 1, 1], [1, 1, 1, 1, 1, 1, 1, 1, 1, 1, 1, 1, 1, 1, 1, 1, 1, 1, 1, 1, 1, 1, 1, 1, 1, 1, 1, 1, 1, 1, 1, 1, 1, 1, 1, 1, 1, 1, 1, 1, 1, 1, 1, 1, 1, 1, 1, 1, 1, 1, 1, 1, 1, 1, 1, 1, 1, 1, 1, 1, 1, 1, 1, 1, 1, 1, 1, 1, 1, 1, 1, 1, 1, 1, 1, 1, 1, 1, 1, 1, 1, 1, 1, 1, 1, 1, 1, 1, 1, 1, 1, 1, 1, 1, 1, 1, 1, 1, 1, 1, 1, 1, 1, 1, 1, 1, 1, 1, 1, 1, 1, 1, 1, 1, 1, 1, 1, 1, 1, 1, 1, 1, 1, 1, 1, 1, 1, 1, 1, 1, 1, 1, 1, 1, 1, 1, 1, 1, 1, 1, 1, 1, 1, 1, 1, 1, 1, 1, 1, 1, 1, 1, 1, 1, 1, 1, 1, 1, 1, 1, 1, 1, 1, 1, 1, 1, 1, 1, 1, 1, 1, 1, 1, 1, 1, 1, 1, 1, 1, 1, 1, 1, 1, 1, 1, 1, 1, 1, 1, 1, 1, 1, 1, 1, 1, 1, 1, 1, 1, 1, 1, 1, 1, 1, 1, 1, 1, 1, 1, 1, 1, 1, 1, 1, 1, 1, 1, 1, 1, 1, 1, 1, 1, 1, 1, 1, 1, 1, 1, 1, 1, 1, 1, 1, 1, 1, 1, 1, 1, 1, 1, 1, 1, 1, 1, 1, 1, 1, 1, 1, 1, 1, 1, 1, 1, 1, 1, 1, 1, 1, 1, 1, 1, 1, 1, 1, 1, 1, 1, 1, 1, 1, 1, 1, 1, 1, 1, 1, 1, 1, 1, 1, 1, 1, 1, 1, 1, 1, 1, 1, 1, 1, 1, 1, 1, 1, 1, 1, 1, 1, 1, 1, 1, 1, 1, 1, 1, 1, 1, 1, 1, 1, 1, 1, 1, 1, 1, 1, 1, 1, 1, 1, 1, 1, 1, 1, 1, 1, 1, 1, 1, 1, 1, 1, 1, 1, 1, 1, 1, 1, 1, 1, 1, 1, 1, 1, 1, 1, 1, 1, 1, 1, 1, 1, 1, 1, 1, 1, 1, 1, 1, 1, 1, 1, 1, 1, 1, 1, 1, 1, 1, 1, 1, 1, 1, 1, 1, 1, 1, 1, 1, 1, 1, 1, 1, 1, 1, 1, 1, 1, 1, 1, 1, 1, 1, 1, 1, 1, 1, 1, 1, 1, 1, 1, 1, 1, 1, 1, 1, 1, 1, 1, 1, 1, 1, 1, 1, 1, 1, 1, 1, 1, 1, 1, 1, 1, 1, 1, 1, 1, 1, 1, 1, 1, 1, 1, 1, 1, 1, 1, 1, 1, 1, 1, 1, 1, 1, 1, 1, 1, 1, 1, 1, 1, 1, 1, 1, 1, 1, 1, 1, 1, 1, 1, 1, 1, 1, 1, 1, 1, 1, 1, 1, 1, 1, 1, 1, 1, 1, 1, 1, 1, 1, 1, 1, 1, 1, 1, 1, 1, 1, 1, 1, 1, 1, 1, 1, 1, 1, 1, 1, 1, 1, 1, 1, 1, 1, 1, 1, 1, 1, 1]], 'labels': [[20, 11036, 7, 3728, 5, 1], [2476, 31, 7, 147, 29286, 6363, 47, 734, 179, 5, 3, 7, 1497, 1306, 141, 728, 118, 3, 9, 2353, 2320, 12, 376, 5, 78, 141, 3, 20068, 15, 3946, 10701, 9, 5, 78, 141, 768, 10666, 2480, 5, 24, 471, 66, 386, 141, 13876, 376, 5, 1]]}"
            ]
          },
          "metadata": {},
          "execution_count": 30
        }
      ],
      "source": [
        "preprocess_function(raw_datasets['train'][:2])"
      ]
    },
    {
      "cell_type": "code",
      "execution_count": null,
      "metadata": {
        "id": "DDtsaJeVIrJT",
        "outputId": "be335833-1a72-4566-98ad-866c4efca88e",
        "colab": {
          "base_uri": "https://localhost:8080/",
          "height": 113,
          "referenced_widgets": [
            "bf0ab4da912244429801444765f88339",
            "29565fe4a9aa49aa9d6d93e961428feb",
            "8eda4730e9434daaa03ce18f3661fcc1",
            "7099fa5c012c4aa483b1a3d927dde9b2",
            "d1edc909e49d42b4992c8b97d11cb803",
            "46aed27cb0ed4d1aab15a87390964e17",
            "364323e4fad148bc836103354fe9bbe9",
            "e24a5a26eec945d2b89e3b28a6014a30",
            "b5f655fbf63f4e269b58545c9652c04e",
            "4c7ae08d2ff3438ca45ce5b22e7f8b23",
            "c6d0fae3ac7e4734b0be691a9741911e",
            "729ee34f4472431680320e672e83beb6",
            "4efc215732da4688a18c196fde4be213",
            "4a151340dee843b19112c018b720e78c",
            "fa682f216dca4004a130247895dbee8f",
            "d770d2dd24324926ad5c3f569703ae08",
            "fe9d4f5360644af19518b9d4b9c1ad85",
            "2d402d084a364191b16010e59719c407",
            "2e1b017259864f91afaccb8857505792",
            "d95db450a87044f58547f6d09ddcca01",
            "61accb32ed014b9583200df07ecb3617",
            "3fca63167671418cb474eb06183cd051",
            "d0740364126f4b86808b10bcceb1bf25",
            "c7eb5806875f4782a831e13ee85bc989",
            "89d9f0a8f8f14a6faa9b3312043f429a",
            "753c6cd35dac44f78ff2c27d2523810b",
            "9f7499938ee24fd48cb4311211caeec3",
            "8f196de065164a59934f811faf98b19b",
            "8aeabe98cfa14c50a1f8d6acdf2a10a3",
            "903e8ea03657481e9a92a93155a33bf9",
            "5cac6d79a32d478bad7e9c96525d57e3",
            "d3f4f242f1cd4aa69938ff2b212a9d75",
            "00d5fbf037a14d439a2f1fd658cf1267"
          ]
        }
      },
      "outputs": [
        {
          "output_type": "display_data",
          "data": {
            "text/plain": [
              "  0%|          | 0/4 [00:00<?, ?ba/s]"
            ],
            "application/vnd.jupyter.widget-view+json": {
              "version_major": 2,
              "version_minor": 0,
              "model_id": "bf0ab4da912244429801444765f88339"
            }
          },
          "metadata": {}
        },
        {
          "output_type": "display_data",
          "data": {
            "text/plain": [
              "  0%|          | 0/1 [00:00<?, ?ba/s]"
            ],
            "application/vnd.jupyter.widget-view+json": {
              "version_major": 2,
              "version_minor": 0,
              "model_id": "729ee34f4472431680320e672e83beb6"
            }
          },
          "metadata": {}
        },
        {
          "output_type": "display_data",
          "data": {
            "text/plain": [
              "  0%|          | 0/1 [00:00<?, ?ba/s]"
            ],
            "application/vnd.jupyter.widget-view+json": {
              "version_major": 2,
              "version_minor": 0,
              "model_id": "d0740364126f4b86808b10bcceb1bf25"
            }
          },
          "metadata": {}
        }
      ],
      "source": [
        "tokenized_datasets = raw_datasets.map(preprocess_function, batched=True)"
      ]
    },
    {
      "cell_type": "markdown",
      "metadata": {
        "id": "545PP3o8IrJV"
      },
      "source": [
        "## Fine-tuning the model"
      ]
    },
    {
      "cell_type": "markdown",
      "metadata": {
        "id": "FBiW8UpKIrJW"
      },
      "source": [
        "Now that our data is ready, we can download the pretrained model and fine-tune it. Since our task is of the sequence-to-sequence kind, we use the `AutoModelForSeq2SeqLM` class. Like with the tokenizer, the `from_pretrained` method will download and cache the model for us."
      ]
    },
    {
      "cell_type": "code",
      "execution_count": null,
      "metadata": {
        "id": "TlqNaB8jIrJW"
      },
      "outputs": [],
      "source": [
        "from transformers import AutoModelForSeq2SeqLM, DataCollatorForSeq2Seq, Seq2SeqTrainingArguments, Seq2SeqTrainer\n",
        "\n",
        "model = AutoModelForSeq2SeqLM.from_pretrained(model_checkpoint)"
      ]
    },
    {
      "cell_type": "code",
      "execution_count": null,
      "metadata": {
        "id": "WRl0srdWrAJp"
      },
      "outputs": [],
      "source": [
        "batch_size = 16\n",
        "model_name = model_checkpoint.split(\"/\")[-1]\n",
        "args = Seq2SeqTrainingArguments(\n",
        "    f\"{model_name}-finetuned-quote-sum\",\n",
        "    evaluation_strategy = \"epoch\",\n",
        "    learning_rate=2e-5,\n",
        "    per_device_train_batch_size=batch_size,\n",
        "    per_device_eval_batch_size=batch_size,\n",
        "    weight_decay=0.01,\n",
        "    save_total_limit=3,\n",
        "    num_train_epochs=3,\n",
        "    predict_with_generate=True,\n",
        "    fp16=True,\n",
        "    push_to_hub=False,\n",
        ")"
      ]
    },
    {
      "cell_type": "code",
      "execution_count": null,
      "metadata": {
        "id": "-qevlG8DrAJp"
      },
      "outputs": [],
      "source": [
        "data_collator = DataCollatorForSeq2Seq(tokenizer, model=model)"
      ]
    },
    {
      "cell_type": "code",
      "source": [
        "# data_collator"
      ],
      "metadata": {
        "id": "OIhDHshtk4LT"
      },
      "execution_count": null,
      "outputs": []
    },
    {
      "cell_type": "code",
      "execution_count": null,
      "metadata": {
        "id": "UmvbnJ9JIrJd"
      },
      "outputs": [],
      "source": [
        "import nltk\n",
        "import numpy as np\n",
        "\n",
        "def compute_metrics(eval_pred):\n",
        "    predictions, labels = eval_pred\n",
        "    decoded_preds = tokenizer.batch_decode(predictions, skip_special_tokens=True)\n",
        "    # Replace -100 in the labels as we can't decode them.\n",
        "    labels = np.where(labels != -100, labels, tokenizer.pad_token_id)\n",
        "    decoded_labels = tokenizer.batch_decode(labels, skip_special_tokens=True)\n",
        "    \n",
        "    # Rouge expects a newline after each sentence\n",
        "    decoded_preds = [\"\\n\".join(nltk.sent_tokenize(pred.strip())) for pred in decoded_preds]\n",
        "    decoded_labels = [\"\\n\".join(nltk.sent_tokenize(label.strip())) for label in decoded_labels]\n",
        "    \n",
        "    result = metric.compute(predictions=decoded_preds, references=decoded_labels, use_stemmer=True)\n",
        "    # Extract a few results\n",
        "    result = {key: value.mid.fmeasure * 100 for key, value in result.items()}\n",
        "    \n",
        "    # Add mean generated length\n",
        "    prediction_lens = [np.count_nonzero(pred != tokenizer.pad_token_id) for pred in predictions]\n",
        "    result[\"gen_len\"] = np.mean(prediction_lens)\n",
        "    \n",
        "    return {k: round(v, 4) for k, v in result.items()}"
      ]
    },
    {
      "cell_type": "code",
      "execution_count": null,
      "metadata": {
        "id": "imY1oC3SIrJf",
        "colab": {
          "base_uri": "https://localhost:8080/"
        },
        "outputId": "0479bb95-8c29-456b-e4b3-18d656efe0d1"
      },
      "outputs": [
        {
          "output_type": "stream",
          "name": "stderr",
          "text": [
            "Using amp half precision backend\n"
          ]
        }
      ],
      "source": [
        "trainer = Seq2SeqTrainer(\n",
        "    model,\n",
        "    args,\n",
        "    train_dataset=tokenized_datasets[\"train\"],\n",
        "    eval_dataset=tokenized_datasets[\"valid\"],\n",
        "    data_collator=data_collator,\n",
        "    tokenizer=tokenizer,\n",
        "    compute_metrics=compute_metrics\n",
        ")"
      ]
    },
    {
      "cell_type": "code",
      "source": [
        "import nltk\n",
        "nltk.download('punkt')"
      ],
      "metadata": {
        "colab": {
          "base_uri": "https://localhost:8080/"
        },
        "id": "RXCb9AWfhu8j",
        "outputId": "6784ed5b-6f7e-4e2c-a1f4-e2bf772d625c"
      },
      "execution_count": null,
      "outputs": [
        {
          "output_type": "stream",
          "name": "stdout",
          "text": [
            "[nltk_data] Downloading package punkt to /root/nltk_data...\n",
            "[nltk_data]   Package punkt is already up-to-date!\n"
          ]
        },
        {
          "output_type": "execute_result",
          "data": {
            "text/plain": [
              "True"
            ]
          },
          "metadata": {},
          "execution_count": 38
        }
      ]
    },
    {
      "cell_type": "code",
      "execution_count": null,
      "metadata": {
        "id": "uNx5pyRlIrJh",
        "outputId": "19a42576-09d5-47a3-c653-e44db79d9dae",
        "scrolled": false,
        "colab": {
          "base_uri": "https://localhost:8080/",
          "height": 762
        }
      },
      "outputs": [
        {
          "output_type": "stream",
          "name": "stderr",
          "text": [
            "The following columns in the training set don't have a corresponding argument in `T5ForConditionalGeneration.forward` and have been ignored: __index_level_0__, text, quote, id. If __index_level_0__, text, quote, id are not expected by `T5ForConditionalGeneration.forward`,  you can safely ignore this message.\n",
            "/usr/local/lib/python3.7/dist-packages/transformers/optimization.py:309: FutureWarning: This implementation of AdamW is deprecated and will be removed in a future version. Use the PyTorch implementation torch.optim.AdamW instead, or set `no_deprecation_warning=True` to disable this warning\n",
            "  FutureWarning,\n",
            "***** Running training *****\n",
            "  Num examples = 3764\n",
            "  Num Epochs = 3\n",
            "  Instantaneous batch size per device = 16\n",
            "  Total train batch size (w. parallel, distributed & accumulation) = 16\n",
            "  Gradient Accumulation steps = 1\n",
            "  Total optimization steps = 708\n"
          ]
        },
        {
          "output_type": "display_data",
          "data": {
            "text/plain": [
              "<IPython.core.display.HTML object>"
            ],
            "text/html": [
              "\n",
              "    <div>\n",
              "      \n",
              "      <progress value='708' max='708' style='width:300px; height:20px; vertical-align: middle;'></progress>\n",
              "      [708/708 05:24, Epoch 3/3]\n",
              "    </div>\n",
              "    <table border=\"1\" class=\"dataframe\">\n",
              "  <thead>\n",
              " <tr style=\"text-align: left;\">\n",
              "      <th>Epoch</th>\n",
              "      <th>Training Loss</th>\n",
              "      <th>Validation Loss</th>\n",
              "      <th>Rouge1</th>\n",
              "      <th>Rouge2</th>\n",
              "      <th>Rougel</th>\n",
              "      <th>Rougelsum</th>\n",
              "      <th>Gen Len</th>\n",
              "    </tr>\n",
              "  </thead>\n",
              "  <tbody>\n",
              "    <tr>\n",
              "      <td>1</td>\n",
              "      <td>No log</td>\n",
              "      <td>0.601559</td>\n",
              "      <td>14.759900</td>\n",
              "      <td>6.218500</td>\n",
              "      <td>13.237100</td>\n",
              "      <td>13.721200</td>\n",
              "      <td>18.521300</td>\n",
              "    </tr>\n",
              "    <tr>\n",
              "      <td>2</td>\n",
              "      <td>No log</td>\n",
              "      <td>0.563475</td>\n",
              "      <td>16.821400</td>\n",
              "      <td>8.358800</td>\n",
              "      <td>15.049900</td>\n",
              "      <td>15.571000</td>\n",
              "      <td>18.508500</td>\n",
              "    </tr>\n",
              "    <tr>\n",
              "      <td>3</td>\n",
              "      <td>0.794300</td>\n",
              "      <td>0.555365</td>\n",
              "      <td>16.626100</td>\n",
              "      <td>8.036300</td>\n",
              "      <td>14.852100</td>\n",
              "      <td>15.338400</td>\n",
              "      <td>18.593600</td>\n",
              "    </tr>\n",
              "  </tbody>\n",
              "</table><p>"
            ]
          },
          "metadata": {}
        },
        {
          "output_type": "stream",
          "name": "stderr",
          "text": [
            "The following columns in the evaluation set don't have a corresponding argument in `T5ForConditionalGeneration.forward` and have been ignored: __index_level_0__, text, quote, id. If __index_level_0__, text, quote, id are not expected by `T5ForConditionalGeneration.forward`,  you can safely ignore this message.\n",
            "***** Running Evaluation *****\n",
            "  Num examples = 470\n",
            "  Batch size = 16\n",
            "The following columns in the evaluation set don't have a corresponding argument in `T5ForConditionalGeneration.forward` and have been ignored: __index_level_0__, text, quote, id. If __index_level_0__, text, quote, id are not expected by `T5ForConditionalGeneration.forward`,  you can safely ignore this message.\n",
            "***** Running Evaluation *****\n",
            "  Num examples = 470\n",
            "  Batch size = 16\n",
            "Saving model checkpoint to t5-small-finetuned-quote-sum/checkpoint-500\n",
            "Configuration saved in t5-small-finetuned-quote-sum/checkpoint-500/config.json\n",
            "Model weights saved in t5-small-finetuned-quote-sum/checkpoint-500/pytorch_model.bin\n",
            "tokenizer config file saved in t5-small-finetuned-quote-sum/checkpoint-500/tokenizer_config.json\n",
            "Special tokens file saved in t5-small-finetuned-quote-sum/checkpoint-500/special_tokens_map.json\n",
            "The following columns in the evaluation set don't have a corresponding argument in `T5ForConditionalGeneration.forward` and have been ignored: __index_level_0__, text, quote, id. If __index_level_0__, text, quote, id are not expected by `T5ForConditionalGeneration.forward`,  you can safely ignore this message.\n",
            "***** Running Evaluation *****\n",
            "  Num examples = 470\n",
            "  Batch size = 16\n",
            "\n",
            "\n",
            "Training completed. Do not forget to share your model on huggingface.co/models =)\n",
            "\n",
            "\n"
          ]
        },
        {
          "output_type": "execute_result",
          "data": {
            "text/plain": [
              "TrainOutput(global_step=708, training_loss=0.7647534171066716, metrics={'train_runtime': 324.5433, 'train_samples_per_second': 34.794, 'train_steps_per_second': 2.182, 'total_flos': 1528279622221824.0, 'train_loss': 0.7647534171066716, 'epoch': 3.0})"
            ]
          },
          "metadata": {},
          "execution_count": 39
        }
      ],
      "source": [
        "trainer.train()"
      ]
    },
    {
      "cell_type": "code",
      "source": [
        ""
      ],
      "metadata": {
        "id": "BoCmlskG1-fF"
      },
      "execution_count": null,
      "outputs": []
    },
    {
      "cell_type": "markdown",
      "metadata": {
        "id": "IF_kZ-2NrAJp"
      },
      "source": [
        "You can now upload the result of the training to the Hub, just execute this instruction:"
      ]
    },
    {
      "cell_type": "code",
      "source": [
        "trainer.save_model(\"/content/drive/MyDrive/datasets_qa/test-sum-trained\")\n"
      ],
      "metadata": {
        "colab": {
          "base_uri": "https://localhost:8080/"
        },
        "id": "FZO7npAliZaW",
        "outputId": "1aa6a796-d4be-4d37-fb76-4d6c40817ebd"
      },
      "execution_count": null,
      "outputs": [
        {
          "output_type": "stream",
          "name": "stderr",
          "text": [
            "Saving model checkpoint to /content/drive/MyDrive/datasets_qa/test-sum-trained\n",
            "Configuration saved in /content/drive/MyDrive/datasets_qa/test-sum-trained/config.json\n",
            "Model weights saved in /content/drive/MyDrive/datasets_qa/test-sum-trained/pytorch_model.bin\n",
            "tokenizer config file saved in /content/drive/MyDrive/datasets_qa/test-sum-trained/tokenizer_config.json\n",
            "Special tokens file saved in /content/drive/MyDrive/datasets_qa/test-sum-trained/special_tokens_map.json\n"
          ]
        }
      ]
    },
    {
      "cell_type": "code",
      "source": [
        ""
      ],
      "metadata": {
        "id": "p8dj-x3U4ffB"
      },
      "execution_count": null,
      "outputs": []
    },
    {
      "cell_type": "code",
      "source": [
        "set_type = \"valid\""
      ],
      "metadata": {
        "id": "gtsMuZan4Xaq"
      },
      "execution_count": null,
      "outputs": []
    },
    {
      "cell_type": "code",
      "source": [
        "raw_predictions = trainer.predict(tokenized_datasets[set_type])\n"
      ],
      "metadata": {
        "colab": {
          "base_uri": "https://localhost:8080/",
          "height": 126
        },
        "id": "1zeebzSPiZXQ",
        "outputId": "ff41f739-715a-464a-a77b-f0a9cb31d85b"
      },
      "execution_count": null,
      "outputs": [
        {
          "output_type": "stream",
          "name": "stderr",
          "text": [
            "The following columns in the test set don't have a corresponding argument in `T5ForConditionalGeneration.forward` and have been ignored: __index_level_0__, text, quote, id. If __index_level_0__, text, quote, id are not expected by `T5ForConditionalGeneration.forward`,  you can safely ignore this message.\n",
            "***** Running Prediction *****\n",
            "  Num examples = 470\n",
            "  Batch size = 16\n"
          ]
        },
        {
          "output_type": "display_data",
          "data": {
            "text/plain": [
              "<IPython.core.display.HTML object>"
            ],
            "text/html": [
              "\n",
              "    <div>\n",
              "      \n",
              "      <progress value='30' max='30' style='width:300px; height:20px; vertical-align: middle;'></progress>\n",
              "      [30/30 00:13]\n",
              "    </div>\n",
              "    "
            ]
          },
          "metadata": {}
        }
      ]
    },
    {
      "cell_type": "code",
      "source": [
        "# tokenizer.batch_decode(raw_predictions.predictions[0])\n",
        "raw_predictions"
      ],
      "metadata": {
        "colab": {
          "base_uri": "https://localhost:8080/"
        },
        "id": "vyz2eF1Rv4jV",
        "outputId": "9f3c785c-38c8-4dfd-b1da-29c7192a8e3c"
      },
      "execution_count": null,
      "outputs": [
        {
          "output_type": "execute_result",
          "data": {
            "text/plain": [
              "PredictionOutput(predictions=array([[   0,    3,    9, ...,   11,    3,    7],\n",
              "       [   0,    3,   88, ...,    0,    0,    0],\n",
              "       [   0,    8, 1997, ...,   18, 8114,    3],\n",
              "       ...,\n",
              "       [   0, 1028,   15, ...,   23, 2124,    6],\n",
              "       [   0,   21, 4040, ..., 1162, 5963,  718],\n",
              "       [   0, 1911, 6626, ...,    9, 6377,    6]]), label_ids=array([[  163,     8, 31033, ...,  -100,  -100,  -100],\n",
              "       [  227,  2361, 12010, ...,   160,   323,     1],\n",
              "       [    8,  2195,   141, ...,  -100,  -100,  -100],\n",
              "       ...,\n",
              "       [   25,  3223,     5, ...,  -100,  -100,  -100],\n",
              "       [   16,   685,     6, ...,  -100,  -100,  -100],\n",
              "       [    3,    88,     3, ...,  -100,  -100,  -100]]), metrics={'test_loss': 0.555364727973938, 'test_rouge1': 16.6261, 'test_rouge2': 8.0363, 'test_rougeL': 14.8521, 'test_rougeLsum': 15.3384, 'test_gen_len': 18.5936, 'test_runtime': 14.9757, 'test_samples_per_second': 31.384, 'test_steps_per_second': 2.003})"
            ]
          },
          "metadata": {},
          "execution_count": 43
        }
      ]
    },
    {
      "cell_type": "code",
      "source": [
        "tokenized_datasets[set_type]"
      ],
      "metadata": {
        "colab": {
          "base_uri": "https://localhost:8080/"
        },
        "id": "2svT9CXD8PvU",
        "outputId": "ff47ec08-f871-4978-866a-c33a8eeed81a"
      },
      "execution_count": null,
      "outputs": [
        {
          "output_type": "execute_result",
          "data": {
            "text/plain": [
              "Dataset({\n",
              "    features: ['text', 'id', 'quote', '__index_level_0__', 'input_ids', 'attention_mask', 'labels'],\n",
              "    num_rows: 470\n",
              "})"
            ]
          },
          "metadata": {},
          "execution_count": 44
        }
      ]
    },
    {
      "cell_type": "code",
      "source": [
        "tokenized_datasets[set_type][\"labels\"][0]"
      ],
      "metadata": {
        "colab": {
          "base_uri": "https://localhost:8080/"
        },
        "id": "qd1ZcYB66lej",
        "outputId": "9f71380e-8fd3-4668-c95d-6d622798b4ff"
      },
      "execution_count": null,
      "outputs": [
        {
          "output_type": "execute_result",
          "data": {
            "text/plain": [
              "[163,\n",
              " 8,\n",
              " 31033,\n",
              " 106,\n",
              " 343,\n",
              " 1944,\n",
              " 30,\n",
              " 5,\n",
              " 24,\n",
              " 31,\n",
              " 7,\n",
              " 31033,\n",
              " 106,\n",
              " 343,\n",
              " 7,\n",
              " 21,\n",
              " 25,\n",
              " 5,\n",
              " 1]"
            ]
          },
          "metadata": {},
          "execution_count": 45
        }
      ]
    },
    {
      "cell_type": "code",
      "source": [
        "word_predictions = tokenizer.batch_decode(raw_predictions.predictions)"
      ],
      "metadata": {
        "id": "vvU1Wea20lHx"
      },
      "execution_count": null,
      "outputs": []
    },
    {
      "cell_type": "code",
      "source": [
        "pd.DataFrame({\"text\":tokenized_datasets[set_type][\"text\"],\"quote\":tokenized_datasets[set_type][\"quote\"],\"predicted\":word_predictions})"
      ],
      "metadata": {
        "colab": {
          "base_uri": "https://localhost:8080/",
          "height": 424
        },
        "id": "uSDvDoqI08pd",
        "outputId": "6ecf9098-a4ab-4ad2-d4ad-6b2805a53c75"
      },
      "execution_count": null,
      "outputs": [
        {
          "output_type": "execute_result",
          "data": {
            "text/plain": [
              "                                                  text  \\\n",
              "0    . perfect, i thought. camouflage, you see. a h...   \n",
              "1    to get her up. tommy, hurry! he lifted the boo...   \n",
              "2    with them, for as long as it takes. and watch....   \n",
              "3    eyes and blood on his hand, clutching at the b...   \n",
              "4    , and before very long only jon and ghost rema...   \n",
              "..                                                 ...   \n",
              "465  problem?'' i need someone to go with me, to be...   \n",
              "466  in the terms which one gentleman would use to ...   \n",
              "467  had he not spoke back, spoke up, would he stil...   \n",
              "468  evolution been more advanced, we would probabl...   \n",
              "469  . i can well imagine the extravagance of night...   \n",
              "\n",
              "                                                 quote  \\\n",
              "0    only the trombonist played on. that's tromboni...   \n",
              "1    after perhaps thirty meters, just as a soldier...   \n",
              "2    the tree had been dead a long time, but it see...   \n",
              "3               unbearable claustrophobia of the soul,   \n",
              "4    strike hard and true, crow, or i'll come back ...   \n",
              "..                                                 ...   \n",
              "465  fate's way of beating us in a fair fight is to...   \n",
              "466  i make so many beginnings there never will be ...   \n",
              "467  you exist. you matter. you have value. you hav...   \n",
              "468  in fact, overwhelmingly museum displays are ar...   \n",
              "469  he sailed through the world guided only by the...   \n",
              "\n",
              "                                             predicted  \n",
              "0    <pad> a beehive of consternation in all major ...  \n",
              "1    <pad> he collected her punches as if they were...  \n",
              "2    <pad> the sun was long gone, and only the cold...  \n",
              "3    <pad> it was nothing i hadn't thought of, plen...  \n",
              "4    <pad> he touched the edge of the blade to mark...  \n",
              "..                                                 ...  \n",
              "465  <pad> fate's way of beating us in a fair fight...  \n",
              "466  <pad> jo dropped a kiss on the top of mr. laur...  \n",
              "467  <pad> disembodiment. the dragon that compelled...  \n",
              "468  <pad> for millions of years, a gigantic, fligh...  \n",
              "469  <pad> monstrous as it was, the corpse itself s...  \n",
              "\n",
              "[470 rows x 3 columns]"
            ],
            "text/html": [
              "\n",
              "  <div id=\"df-6e657f3a-6b2c-432d-ae32-81b0ba534fab\">\n",
              "    <div class=\"colab-df-container\">\n",
              "      <div>\n",
              "<style scoped>\n",
              "    .dataframe tbody tr th:only-of-type {\n",
              "        vertical-align: middle;\n",
              "    }\n",
              "\n",
              "    .dataframe tbody tr th {\n",
              "        vertical-align: top;\n",
              "    }\n",
              "\n",
              "    .dataframe thead th {\n",
              "        text-align: right;\n",
              "    }\n",
              "</style>\n",
              "<table border=\"1\" class=\"dataframe\">\n",
              "  <thead>\n",
              "    <tr style=\"text-align: right;\">\n",
              "      <th></th>\n",
              "      <th>text</th>\n",
              "      <th>quote</th>\n",
              "      <th>predicted</th>\n",
              "    </tr>\n",
              "  </thead>\n",
              "  <tbody>\n",
              "    <tr>\n",
              "      <th>0</th>\n",
              "      <td>. perfect, i thought. camouflage, you see. a h...</td>\n",
              "      <td>only the trombonist played on. that's tromboni...</td>\n",
              "      <td>&lt;pad&gt; a beehive of consternation in all major ...</td>\n",
              "    </tr>\n",
              "    <tr>\n",
              "      <th>1</th>\n",
              "      <td>to get her up. tommy, hurry! he lifted the boo...</td>\n",
              "      <td>after perhaps thirty meters, just as a soldier...</td>\n",
              "      <td>&lt;pad&gt; he collected her punches as if they were...</td>\n",
              "    </tr>\n",
              "    <tr>\n",
              "      <th>2</th>\n",
              "      <td>with them, for as long as it takes. and watch....</td>\n",
              "      <td>the tree had been dead a long time, but it see...</td>\n",
              "      <td>&lt;pad&gt; the sun was long gone, and only the cold...</td>\n",
              "    </tr>\n",
              "    <tr>\n",
              "      <th>3</th>\n",
              "      <td>eyes and blood on his hand, clutching at the b...</td>\n",
              "      <td>unbearable claustrophobia of the soul,</td>\n",
              "      <td>&lt;pad&gt; it was nothing i hadn't thought of, plen...</td>\n",
              "    </tr>\n",
              "    <tr>\n",
              "      <th>4</th>\n",
              "      <td>, and before very long only jon and ghost rema...</td>\n",
              "      <td>strike hard and true, crow, or i'll come back ...</td>\n",
              "      <td>&lt;pad&gt; he touched the edge of the blade to mark...</td>\n",
              "    </tr>\n",
              "    <tr>\n",
              "      <th>...</th>\n",
              "      <td>...</td>\n",
              "      <td>...</td>\n",
              "      <td>...</td>\n",
              "    </tr>\n",
              "    <tr>\n",
              "      <th>465</th>\n",
              "      <td>problem?'' i need someone to go with me, to be...</td>\n",
              "      <td>fate's way of beating us in a fair fight is to...</td>\n",
              "      <td>&lt;pad&gt; fate's way of beating us in a fair fight...</td>\n",
              "    </tr>\n",
              "    <tr>\n",
              "      <th>466</th>\n",
              "      <td>in the terms which one gentleman would use to ...</td>\n",
              "      <td>i make so many beginnings there never will be ...</td>\n",
              "      <td>&lt;pad&gt; jo dropped a kiss on the top of mr. laur...</td>\n",
              "    </tr>\n",
              "    <tr>\n",
              "      <th>467</th>\n",
              "      <td>had he not spoke back, spoke up, would he stil...</td>\n",
              "      <td>you exist. you matter. you have value. you hav...</td>\n",
              "      <td>&lt;pad&gt; disembodiment. the dragon that compelled...</td>\n",
              "    </tr>\n",
              "    <tr>\n",
              "      <th>468</th>\n",
              "      <td>evolution been more advanced, we would probabl...</td>\n",
              "      <td>in fact, overwhelmingly museum displays are ar...</td>\n",
              "      <td>&lt;pad&gt; for millions of years, a gigantic, fligh...</td>\n",
              "    </tr>\n",
              "    <tr>\n",
              "      <th>469</th>\n",
              "      <td>. i can well imagine the extravagance of night...</td>\n",
              "      <td>he sailed through the world guided only by the...</td>\n",
              "      <td>&lt;pad&gt; monstrous as it was, the corpse itself s...</td>\n",
              "    </tr>\n",
              "  </tbody>\n",
              "</table>\n",
              "<p>470 rows × 3 columns</p>\n",
              "</div>\n",
              "      <button class=\"colab-df-convert\" onclick=\"convertToInteractive('df-6e657f3a-6b2c-432d-ae32-81b0ba534fab')\"\n",
              "              title=\"Convert this dataframe to an interactive table.\"\n",
              "              style=\"display:none;\">\n",
              "        \n",
              "  <svg xmlns=\"http://www.w3.org/2000/svg\" height=\"24px\"viewBox=\"0 0 24 24\"\n",
              "       width=\"24px\">\n",
              "    <path d=\"M0 0h24v24H0V0z\" fill=\"none\"/>\n",
              "    <path d=\"M18.56 5.44l.94 2.06.94-2.06 2.06-.94-2.06-.94-.94-2.06-.94 2.06-2.06.94zm-11 1L8.5 8.5l.94-2.06 2.06-.94-2.06-.94L8.5 2.5l-.94 2.06-2.06.94zm10 10l.94 2.06.94-2.06 2.06-.94-2.06-.94-.94-2.06-.94 2.06-2.06.94z\"/><path d=\"M17.41 7.96l-1.37-1.37c-.4-.4-.92-.59-1.43-.59-.52 0-1.04.2-1.43.59L10.3 9.45l-7.72 7.72c-.78.78-.78 2.05 0 2.83L4 21.41c.39.39.9.59 1.41.59.51 0 1.02-.2 1.41-.59l7.78-7.78 2.81-2.81c.8-.78.8-2.07 0-2.86zM5.41 20L4 18.59l7.72-7.72 1.47 1.35L5.41 20z\"/>\n",
              "  </svg>\n",
              "      </button>\n",
              "      \n",
              "  <style>\n",
              "    .colab-df-container {\n",
              "      display:flex;\n",
              "      flex-wrap:wrap;\n",
              "      gap: 12px;\n",
              "    }\n",
              "\n",
              "    .colab-df-convert {\n",
              "      background-color: #E8F0FE;\n",
              "      border: none;\n",
              "      border-radius: 50%;\n",
              "      cursor: pointer;\n",
              "      display: none;\n",
              "      fill: #1967D2;\n",
              "      height: 32px;\n",
              "      padding: 0 0 0 0;\n",
              "      width: 32px;\n",
              "    }\n",
              "\n",
              "    .colab-df-convert:hover {\n",
              "      background-color: #E2EBFA;\n",
              "      box-shadow: 0px 1px 2px rgba(60, 64, 67, 0.3), 0px 1px 3px 1px rgba(60, 64, 67, 0.15);\n",
              "      fill: #174EA6;\n",
              "    }\n",
              "\n",
              "    [theme=dark] .colab-df-convert {\n",
              "      background-color: #3B4455;\n",
              "      fill: #D2E3FC;\n",
              "    }\n",
              "\n",
              "    [theme=dark] .colab-df-convert:hover {\n",
              "      background-color: #434B5C;\n",
              "      box-shadow: 0px 1px 3px 1px rgba(0, 0, 0, 0.15);\n",
              "      filter: drop-shadow(0px 1px 2px rgba(0, 0, 0, 0.3));\n",
              "      fill: #FFFFFF;\n",
              "    }\n",
              "  </style>\n",
              "\n",
              "      <script>\n",
              "        const buttonEl =\n",
              "          document.querySelector('#df-6e657f3a-6b2c-432d-ae32-81b0ba534fab button.colab-df-convert');\n",
              "        buttonEl.style.display =\n",
              "          google.colab.kernel.accessAllowed ? 'block' : 'none';\n",
              "\n",
              "        async function convertToInteractive(key) {\n",
              "          const element = document.querySelector('#df-6e657f3a-6b2c-432d-ae32-81b0ba534fab');\n",
              "          const dataTable =\n",
              "            await google.colab.kernel.invokeFunction('convertToInteractive',\n",
              "                                                     [key], {});\n",
              "          if (!dataTable) return;\n",
              "\n",
              "          const docLinkHtml = 'Like what you see? Visit the ' +\n",
              "            '<a target=\"_blank\" href=https://colab.research.google.com/notebooks/data_table.ipynb>data table notebook</a>'\n",
              "            + ' to learn more about interactive tables.';\n",
              "          element.innerHTML = '';\n",
              "          dataTable['output_type'] = 'display_data';\n",
              "          await google.colab.output.renderOutput(dataTable, element);\n",
              "          const docLink = document.createElement('div');\n",
              "          docLink.innerHTML = docLinkHtml;\n",
              "          element.appendChild(docLink);\n",
              "        }\n",
              "      </script>\n",
              "    </div>\n",
              "  </div>\n",
              "  "
            ]
          },
          "metadata": {},
          "execution_count": 47
        }
      ]
    },
    {
      "cell_type": "code",
      "source": [
        ""
      ],
      "metadata": {
        "id": "Fh4jqPPbiZIS"
      },
      "execution_count": null,
      "outputs": []
    },
    {
      "cell_type": "code",
      "source": [
        "rouge_score = load_metric(\"rouge\")\n",
        "scores = rouge_score.compute(\n",
        "    predictions=raw_predictions[1], references=tokenized_datasets[set_type][\"labels\"]\n",
        ")\n",
        "scores"
      ],
      "metadata": {
        "colab": {
          "base_uri": "https://localhost:8080/"
        },
        "id": "uywG4sxG3ugo",
        "outputId": "168073b8-d64b-4e50-c5ab-44b66b1331f6"
      },
      "execution_count": null,
      "outputs": [
        {
          "output_type": "execute_result",
          "data": {
            "text/plain": [
              "{'rouge1': AggregateScore(low=Score(precision=0.2194975897606383, recall=1.0, fmeasure=0.3411336424648481), mid=Score(precision=0.23323636968085107, recall=1.0, fmeasure=0.35686150661975424), high=Score(precision=0.24769281914893615, recall=1.0, fmeasure=0.3716224254266193)),\n",
              " 'rouge2': AggregateScore(low=Score(precision=0.21479309767130222, recall=1.0, fmeasure=0.33396342043889643), mid=Score(precision=0.22703132853074254, recall=1.0, fmeasure=0.3479762875993221), high=Score(precision=0.2418009716870499, recall=1.0, fmeasure=0.36385225861837794)),\n",
              " 'rougeL': AggregateScore(low=Score(precision=0.2197286402925532, recall=1.0, fmeasure=0.34127034224236946), mid=Score(precision=0.23289561170212764, recall=1.0, fmeasure=0.3565301871323091), high=Score(precision=0.24730759640957445, recall=1.0, fmeasure=0.37242209398552917)),\n",
              " 'rougeLsum': AggregateScore(low=Score(precision=0.21588721742021277, recall=0.9879307335747025, fmeasure=0.3360895694667142), mid=Score(precision=0.22853224734042554, recall=0.990103740501004, fmeasure=0.3506804132791575), high=Score(precision=0.24182305518617023, recall=0.9920646714656487, fmeasure=0.3655185708951413))}"
            ]
          },
          "metadata": {},
          "execution_count": 48
        }
      ]
    },
    {
      "cell_type": "code",
      "source": [
        "scores[\"rouge1\"].mid\n"
      ],
      "metadata": {
        "colab": {
          "base_uri": "https://localhost:8080/"
        },
        "id": "PgFVJHiT3uel",
        "outputId": "1fa082de-783f-45e9-dcd8-417713acd29f"
      },
      "execution_count": null,
      "outputs": [
        {
          "output_type": "execute_result",
          "data": {
            "text/plain": [
              "Score(precision=0.23323636968085107, recall=1.0, fmeasure=0.35686150661975424)"
            ]
          },
          "metadata": {},
          "execution_count": 49
        }
      ]
    },
    {
      "cell_type": "code",
      "source": [
        ""
      ],
      "metadata": {
        "id": "LrD6F6je3ubr"
      },
      "execution_count": null,
      "outputs": []
    },
    {
      "cell_type": "code",
      "source": [
        ""
      ],
      "metadata": {
        "id": "yZCuVrx-3uZn"
      },
      "execution_count": null,
      "outputs": []
    },
    {
      "cell_type": "code",
      "source": [
        ""
      ],
      "metadata": {
        "id": "tQSWK19K3uVK"
      },
      "execution_count": null,
      "outputs": []
    },
    {
      "cell_type": "code",
      "source": [
        ""
      ],
      "metadata": {
        "id": "9ZySHGDa3uO8"
      },
      "execution_count": null,
      "outputs": []
    },
    {
      "cell_type": "code",
      "execution_count": null,
      "metadata": {
        "id": "jbzCt2ZXrAJp"
      },
      "outputs": [],
      "source": [
        "# trainer.push_to_hub()"
      ]
    },
    {
      "cell_type": "markdown",
      "metadata": {
        "id": "N6f5UKN_rAJq"
      },
      "source": [
        "You can now share this model with all your friends, family, favorite pets: they can all load it with the identifier `\"your-username/the-name-you-picked\"` so for instance:\n",
        "\n",
        "```python\n",
        "from transformers import AutoModelForSeq2SeqLM\n",
        "\n",
        "model = AutoModelForSeq2SeqLM.from_pretrained(\"sgugger/my-awesome-model\")\n",
        "```"
      ]
    },
    {
      "cell_type": "code",
      "execution_count": null,
      "metadata": {
        "id": "Fygpz4XZrAJq"
      },
      "outputs": [],
      "source": [
        ""
      ]
    }
  ],
  "metadata": {
    "colab": {
      "name": "Quote_Summarization",
      "provenance": []
    },
    "accelerator": "GPU",
    "language_info": {
      "name": "python"
    },
    "kernelspec": {
      "name": "python3",
      "display_name": "Python 3"
    },
    "widgets": {
      "application/vnd.jupyter.widget-state+json": {
        "bf0ab4da912244429801444765f88339": {
          "model_module": "@jupyter-widgets/controls",
          "model_name": "HBoxModel",
          "model_module_version": "1.5.0",
          "state": {
            "_dom_classes": [],
            "_model_module": "@jupyter-widgets/controls",
            "_model_module_version": "1.5.0",
            "_model_name": "HBoxModel",
            "_view_count": null,
            "_view_module": "@jupyter-widgets/controls",
            "_view_module_version": "1.5.0",
            "_view_name": "HBoxView",
            "box_style": "",
            "children": [
              "IPY_MODEL_29565fe4a9aa49aa9d6d93e961428feb",
              "IPY_MODEL_8eda4730e9434daaa03ce18f3661fcc1",
              "IPY_MODEL_7099fa5c012c4aa483b1a3d927dde9b2"
            ],
            "layout": "IPY_MODEL_d1edc909e49d42b4992c8b97d11cb803"
          }
        },
        "29565fe4a9aa49aa9d6d93e961428feb": {
          "model_module": "@jupyter-widgets/controls",
          "model_name": "HTMLModel",
          "model_module_version": "1.5.0",
          "state": {
            "_dom_classes": [],
            "_model_module": "@jupyter-widgets/controls",
            "_model_module_version": "1.5.0",
            "_model_name": "HTMLModel",
            "_view_count": null,
            "_view_module": "@jupyter-widgets/controls",
            "_view_module_version": "1.5.0",
            "_view_name": "HTMLView",
            "description": "",
            "description_tooltip": null,
            "layout": "IPY_MODEL_46aed27cb0ed4d1aab15a87390964e17",
            "placeholder": "​",
            "style": "IPY_MODEL_364323e4fad148bc836103354fe9bbe9",
            "value": "100%"
          }
        },
        "8eda4730e9434daaa03ce18f3661fcc1": {
          "model_module": "@jupyter-widgets/controls",
          "model_name": "FloatProgressModel",
          "model_module_version": "1.5.0",
          "state": {
            "_dom_classes": [],
            "_model_module": "@jupyter-widgets/controls",
            "_model_module_version": "1.5.0",
            "_model_name": "FloatProgressModel",
            "_view_count": null,
            "_view_module": "@jupyter-widgets/controls",
            "_view_module_version": "1.5.0",
            "_view_name": "ProgressView",
            "bar_style": "success",
            "description": "",
            "description_tooltip": null,
            "layout": "IPY_MODEL_e24a5a26eec945d2b89e3b28a6014a30",
            "max": 4,
            "min": 0,
            "orientation": "horizontal",
            "style": "IPY_MODEL_b5f655fbf63f4e269b58545c9652c04e",
            "value": 4
          }
        },
        "7099fa5c012c4aa483b1a3d927dde9b2": {
          "model_module": "@jupyter-widgets/controls",
          "model_name": "HTMLModel",
          "model_module_version": "1.5.0",
          "state": {
            "_dom_classes": [],
            "_model_module": "@jupyter-widgets/controls",
            "_model_module_version": "1.5.0",
            "_model_name": "HTMLModel",
            "_view_count": null,
            "_view_module": "@jupyter-widgets/controls",
            "_view_module_version": "1.5.0",
            "_view_name": "HTMLView",
            "description": "",
            "description_tooltip": null,
            "layout": "IPY_MODEL_4c7ae08d2ff3438ca45ce5b22e7f8b23",
            "placeholder": "​",
            "style": "IPY_MODEL_c6d0fae3ac7e4734b0be691a9741911e",
            "value": " 4/4 [00:05&lt;00:00,  1.31s/ba]"
          }
        },
        "d1edc909e49d42b4992c8b97d11cb803": {
          "model_module": "@jupyter-widgets/base",
          "model_name": "LayoutModel",
          "model_module_version": "1.2.0",
          "state": {
            "_model_module": "@jupyter-widgets/base",
            "_model_module_version": "1.2.0",
            "_model_name": "LayoutModel",
            "_view_count": null,
            "_view_module": "@jupyter-widgets/base",
            "_view_module_version": "1.2.0",
            "_view_name": "LayoutView",
            "align_content": null,
            "align_items": null,
            "align_self": null,
            "border": null,
            "bottom": null,
            "display": null,
            "flex": null,
            "flex_flow": null,
            "grid_area": null,
            "grid_auto_columns": null,
            "grid_auto_flow": null,
            "grid_auto_rows": null,
            "grid_column": null,
            "grid_gap": null,
            "grid_row": null,
            "grid_template_areas": null,
            "grid_template_columns": null,
            "grid_template_rows": null,
            "height": null,
            "justify_content": null,
            "justify_items": null,
            "left": null,
            "margin": null,
            "max_height": null,
            "max_width": null,
            "min_height": null,
            "min_width": null,
            "object_fit": null,
            "object_position": null,
            "order": null,
            "overflow": null,
            "overflow_x": null,
            "overflow_y": null,
            "padding": null,
            "right": null,
            "top": null,
            "visibility": null,
            "width": null
          }
        },
        "46aed27cb0ed4d1aab15a87390964e17": {
          "model_module": "@jupyter-widgets/base",
          "model_name": "LayoutModel",
          "model_module_version": "1.2.0",
          "state": {
            "_model_module": "@jupyter-widgets/base",
            "_model_module_version": "1.2.0",
            "_model_name": "LayoutModel",
            "_view_count": null,
            "_view_module": "@jupyter-widgets/base",
            "_view_module_version": "1.2.0",
            "_view_name": "LayoutView",
            "align_content": null,
            "align_items": null,
            "align_self": null,
            "border": null,
            "bottom": null,
            "display": null,
            "flex": null,
            "flex_flow": null,
            "grid_area": null,
            "grid_auto_columns": null,
            "grid_auto_flow": null,
            "grid_auto_rows": null,
            "grid_column": null,
            "grid_gap": null,
            "grid_row": null,
            "grid_template_areas": null,
            "grid_template_columns": null,
            "grid_template_rows": null,
            "height": null,
            "justify_content": null,
            "justify_items": null,
            "left": null,
            "margin": null,
            "max_height": null,
            "max_width": null,
            "min_height": null,
            "min_width": null,
            "object_fit": null,
            "object_position": null,
            "order": null,
            "overflow": null,
            "overflow_x": null,
            "overflow_y": null,
            "padding": null,
            "right": null,
            "top": null,
            "visibility": null,
            "width": null
          }
        },
        "364323e4fad148bc836103354fe9bbe9": {
          "model_module": "@jupyter-widgets/controls",
          "model_name": "DescriptionStyleModel",
          "model_module_version": "1.5.0",
          "state": {
            "_model_module": "@jupyter-widgets/controls",
            "_model_module_version": "1.5.0",
            "_model_name": "DescriptionStyleModel",
            "_view_count": null,
            "_view_module": "@jupyter-widgets/base",
            "_view_module_version": "1.2.0",
            "_view_name": "StyleView",
            "description_width": ""
          }
        },
        "e24a5a26eec945d2b89e3b28a6014a30": {
          "model_module": "@jupyter-widgets/base",
          "model_name": "LayoutModel",
          "model_module_version": "1.2.0",
          "state": {
            "_model_module": "@jupyter-widgets/base",
            "_model_module_version": "1.2.0",
            "_model_name": "LayoutModel",
            "_view_count": null,
            "_view_module": "@jupyter-widgets/base",
            "_view_module_version": "1.2.0",
            "_view_name": "LayoutView",
            "align_content": null,
            "align_items": null,
            "align_self": null,
            "border": null,
            "bottom": null,
            "display": null,
            "flex": null,
            "flex_flow": null,
            "grid_area": null,
            "grid_auto_columns": null,
            "grid_auto_flow": null,
            "grid_auto_rows": null,
            "grid_column": null,
            "grid_gap": null,
            "grid_row": null,
            "grid_template_areas": null,
            "grid_template_columns": null,
            "grid_template_rows": null,
            "height": null,
            "justify_content": null,
            "justify_items": null,
            "left": null,
            "margin": null,
            "max_height": null,
            "max_width": null,
            "min_height": null,
            "min_width": null,
            "object_fit": null,
            "object_position": null,
            "order": null,
            "overflow": null,
            "overflow_x": null,
            "overflow_y": null,
            "padding": null,
            "right": null,
            "top": null,
            "visibility": null,
            "width": null
          }
        },
        "b5f655fbf63f4e269b58545c9652c04e": {
          "model_module": "@jupyter-widgets/controls",
          "model_name": "ProgressStyleModel",
          "model_module_version": "1.5.0",
          "state": {
            "_model_module": "@jupyter-widgets/controls",
            "_model_module_version": "1.5.0",
            "_model_name": "ProgressStyleModel",
            "_view_count": null,
            "_view_module": "@jupyter-widgets/base",
            "_view_module_version": "1.2.0",
            "_view_name": "StyleView",
            "bar_color": null,
            "description_width": ""
          }
        },
        "4c7ae08d2ff3438ca45ce5b22e7f8b23": {
          "model_module": "@jupyter-widgets/base",
          "model_name": "LayoutModel",
          "model_module_version": "1.2.0",
          "state": {
            "_model_module": "@jupyter-widgets/base",
            "_model_module_version": "1.2.0",
            "_model_name": "LayoutModel",
            "_view_count": null,
            "_view_module": "@jupyter-widgets/base",
            "_view_module_version": "1.2.0",
            "_view_name": "LayoutView",
            "align_content": null,
            "align_items": null,
            "align_self": null,
            "border": null,
            "bottom": null,
            "display": null,
            "flex": null,
            "flex_flow": null,
            "grid_area": null,
            "grid_auto_columns": null,
            "grid_auto_flow": null,
            "grid_auto_rows": null,
            "grid_column": null,
            "grid_gap": null,
            "grid_row": null,
            "grid_template_areas": null,
            "grid_template_columns": null,
            "grid_template_rows": null,
            "height": null,
            "justify_content": null,
            "justify_items": null,
            "left": null,
            "margin": null,
            "max_height": null,
            "max_width": null,
            "min_height": null,
            "min_width": null,
            "object_fit": null,
            "object_position": null,
            "order": null,
            "overflow": null,
            "overflow_x": null,
            "overflow_y": null,
            "padding": null,
            "right": null,
            "top": null,
            "visibility": null,
            "width": null
          }
        },
        "c6d0fae3ac7e4734b0be691a9741911e": {
          "model_module": "@jupyter-widgets/controls",
          "model_name": "DescriptionStyleModel",
          "model_module_version": "1.5.0",
          "state": {
            "_model_module": "@jupyter-widgets/controls",
            "_model_module_version": "1.5.0",
            "_model_name": "DescriptionStyleModel",
            "_view_count": null,
            "_view_module": "@jupyter-widgets/base",
            "_view_module_version": "1.2.0",
            "_view_name": "StyleView",
            "description_width": ""
          }
        },
        "729ee34f4472431680320e672e83beb6": {
          "model_module": "@jupyter-widgets/controls",
          "model_name": "HBoxModel",
          "model_module_version": "1.5.0",
          "state": {
            "_dom_classes": [],
            "_model_module": "@jupyter-widgets/controls",
            "_model_module_version": "1.5.0",
            "_model_name": "HBoxModel",
            "_view_count": null,
            "_view_module": "@jupyter-widgets/controls",
            "_view_module_version": "1.5.0",
            "_view_name": "HBoxView",
            "box_style": "",
            "children": [
              "IPY_MODEL_4efc215732da4688a18c196fde4be213",
              "IPY_MODEL_4a151340dee843b19112c018b720e78c",
              "IPY_MODEL_fa682f216dca4004a130247895dbee8f"
            ],
            "layout": "IPY_MODEL_d770d2dd24324926ad5c3f569703ae08"
          }
        },
        "4efc215732da4688a18c196fde4be213": {
          "model_module": "@jupyter-widgets/controls",
          "model_name": "HTMLModel",
          "model_module_version": "1.5.0",
          "state": {
            "_dom_classes": [],
            "_model_module": "@jupyter-widgets/controls",
            "_model_module_version": "1.5.0",
            "_model_name": "HTMLModel",
            "_view_count": null,
            "_view_module": "@jupyter-widgets/controls",
            "_view_module_version": "1.5.0",
            "_view_name": "HTMLView",
            "description": "",
            "description_tooltip": null,
            "layout": "IPY_MODEL_fe9d4f5360644af19518b9d4b9c1ad85",
            "placeholder": "​",
            "style": "IPY_MODEL_2d402d084a364191b16010e59719c407",
            "value": "100%"
          }
        },
        "4a151340dee843b19112c018b720e78c": {
          "model_module": "@jupyter-widgets/controls",
          "model_name": "FloatProgressModel",
          "model_module_version": "1.5.0",
          "state": {
            "_dom_classes": [],
            "_model_module": "@jupyter-widgets/controls",
            "_model_module_version": "1.5.0",
            "_model_name": "FloatProgressModel",
            "_view_count": null,
            "_view_module": "@jupyter-widgets/controls",
            "_view_module_version": "1.5.0",
            "_view_name": "ProgressView",
            "bar_style": "success",
            "description": "",
            "description_tooltip": null,
            "layout": "IPY_MODEL_2e1b017259864f91afaccb8857505792",
            "max": 1,
            "min": 0,
            "orientation": "horizontal",
            "style": "IPY_MODEL_d95db450a87044f58547f6d09ddcca01",
            "value": 1
          }
        },
        "fa682f216dca4004a130247895dbee8f": {
          "model_module": "@jupyter-widgets/controls",
          "model_name": "HTMLModel",
          "model_module_version": "1.5.0",
          "state": {
            "_dom_classes": [],
            "_model_module": "@jupyter-widgets/controls",
            "_model_module_version": "1.5.0",
            "_model_name": "HTMLModel",
            "_view_count": null,
            "_view_module": "@jupyter-widgets/controls",
            "_view_module_version": "1.5.0",
            "_view_name": "HTMLView",
            "description": "",
            "description_tooltip": null,
            "layout": "IPY_MODEL_61accb32ed014b9583200df07ecb3617",
            "placeholder": "​",
            "style": "IPY_MODEL_3fca63167671418cb474eb06183cd051",
            "value": " 1/1 [00:00&lt;00:00,  1.35ba/s]"
          }
        },
        "d770d2dd24324926ad5c3f569703ae08": {
          "model_module": "@jupyter-widgets/base",
          "model_name": "LayoutModel",
          "model_module_version": "1.2.0",
          "state": {
            "_model_module": "@jupyter-widgets/base",
            "_model_module_version": "1.2.0",
            "_model_name": "LayoutModel",
            "_view_count": null,
            "_view_module": "@jupyter-widgets/base",
            "_view_module_version": "1.2.0",
            "_view_name": "LayoutView",
            "align_content": null,
            "align_items": null,
            "align_self": null,
            "border": null,
            "bottom": null,
            "display": null,
            "flex": null,
            "flex_flow": null,
            "grid_area": null,
            "grid_auto_columns": null,
            "grid_auto_flow": null,
            "grid_auto_rows": null,
            "grid_column": null,
            "grid_gap": null,
            "grid_row": null,
            "grid_template_areas": null,
            "grid_template_columns": null,
            "grid_template_rows": null,
            "height": null,
            "justify_content": null,
            "justify_items": null,
            "left": null,
            "margin": null,
            "max_height": null,
            "max_width": null,
            "min_height": null,
            "min_width": null,
            "object_fit": null,
            "object_position": null,
            "order": null,
            "overflow": null,
            "overflow_x": null,
            "overflow_y": null,
            "padding": null,
            "right": null,
            "top": null,
            "visibility": null,
            "width": null
          }
        },
        "fe9d4f5360644af19518b9d4b9c1ad85": {
          "model_module": "@jupyter-widgets/base",
          "model_name": "LayoutModel",
          "model_module_version": "1.2.0",
          "state": {
            "_model_module": "@jupyter-widgets/base",
            "_model_module_version": "1.2.0",
            "_model_name": "LayoutModel",
            "_view_count": null,
            "_view_module": "@jupyter-widgets/base",
            "_view_module_version": "1.2.0",
            "_view_name": "LayoutView",
            "align_content": null,
            "align_items": null,
            "align_self": null,
            "border": null,
            "bottom": null,
            "display": null,
            "flex": null,
            "flex_flow": null,
            "grid_area": null,
            "grid_auto_columns": null,
            "grid_auto_flow": null,
            "grid_auto_rows": null,
            "grid_column": null,
            "grid_gap": null,
            "grid_row": null,
            "grid_template_areas": null,
            "grid_template_columns": null,
            "grid_template_rows": null,
            "height": null,
            "justify_content": null,
            "justify_items": null,
            "left": null,
            "margin": null,
            "max_height": null,
            "max_width": null,
            "min_height": null,
            "min_width": null,
            "object_fit": null,
            "object_position": null,
            "order": null,
            "overflow": null,
            "overflow_x": null,
            "overflow_y": null,
            "padding": null,
            "right": null,
            "top": null,
            "visibility": null,
            "width": null
          }
        },
        "2d402d084a364191b16010e59719c407": {
          "model_module": "@jupyter-widgets/controls",
          "model_name": "DescriptionStyleModel",
          "model_module_version": "1.5.0",
          "state": {
            "_model_module": "@jupyter-widgets/controls",
            "_model_module_version": "1.5.0",
            "_model_name": "DescriptionStyleModel",
            "_view_count": null,
            "_view_module": "@jupyter-widgets/base",
            "_view_module_version": "1.2.0",
            "_view_name": "StyleView",
            "description_width": ""
          }
        },
        "2e1b017259864f91afaccb8857505792": {
          "model_module": "@jupyter-widgets/base",
          "model_name": "LayoutModel",
          "model_module_version": "1.2.0",
          "state": {
            "_model_module": "@jupyter-widgets/base",
            "_model_module_version": "1.2.0",
            "_model_name": "LayoutModel",
            "_view_count": null,
            "_view_module": "@jupyter-widgets/base",
            "_view_module_version": "1.2.0",
            "_view_name": "LayoutView",
            "align_content": null,
            "align_items": null,
            "align_self": null,
            "border": null,
            "bottom": null,
            "display": null,
            "flex": null,
            "flex_flow": null,
            "grid_area": null,
            "grid_auto_columns": null,
            "grid_auto_flow": null,
            "grid_auto_rows": null,
            "grid_column": null,
            "grid_gap": null,
            "grid_row": null,
            "grid_template_areas": null,
            "grid_template_columns": null,
            "grid_template_rows": null,
            "height": null,
            "justify_content": null,
            "justify_items": null,
            "left": null,
            "margin": null,
            "max_height": null,
            "max_width": null,
            "min_height": null,
            "min_width": null,
            "object_fit": null,
            "object_position": null,
            "order": null,
            "overflow": null,
            "overflow_x": null,
            "overflow_y": null,
            "padding": null,
            "right": null,
            "top": null,
            "visibility": null,
            "width": null
          }
        },
        "d95db450a87044f58547f6d09ddcca01": {
          "model_module": "@jupyter-widgets/controls",
          "model_name": "ProgressStyleModel",
          "model_module_version": "1.5.0",
          "state": {
            "_model_module": "@jupyter-widgets/controls",
            "_model_module_version": "1.5.0",
            "_model_name": "ProgressStyleModel",
            "_view_count": null,
            "_view_module": "@jupyter-widgets/base",
            "_view_module_version": "1.2.0",
            "_view_name": "StyleView",
            "bar_color": null,
            "description_width": ""
          }
        },
        "61accb32ed014b9583200df07ecb3617": {
          "model_module": "@jupyter-widgets/base",
          "model_name": "LayoutModel",
          "model_module_version": "1.2.0",
          "state": {
            "_model_module": "@jupyter-widgets/base",
            "_model_module_version": "1.2.0",
            "_model_name": "LayoutModel",
            "_view_count": null,
            "_view_module": "@jupyter-widgets/base",
            "_view_module_version": "1.2.0",
            "_view_name": "LayoutView",
            "align_content": null,
            "align_items": null,
            "align_self": null,
            "border": null,
            "bottom": null,
            "display": null,
            "flex": null,
            "flex_flow": null,
            "grid_area": null,
            "grid_auto_columns": null,
            "grid_auto_flow": null,
            "grid_auto_rows": null,
            "grid_column": null,
            "grid_gap": null,
            "grid_row": null,
            "grid_template_areas": null,
            "grid_template_columns": null,
            "grid_template_rows": null,
            "height": null,
            "justify_content": null,
            "justify_items": null,
            "left": null,
            "margin": null,
            "max_height": null,
            "max_width": null,
            "min_height": null,
            "min_width": null,
            "object_fit": null,
            "object_position": null,
            "order": null,
            "overflow": null,
            "overflow_x": null,
            "overflow_y": null,
            "padding": null,
            "right": null,
            "top": null,
            "visibility": null,
            "width": null
          }
        },
        "3fca63167671418cb474eb06183cd051": {
          "model_module": "@jupyter-widgets/controls",
          "model_name": "DescriptionStyleModel",
          "model_module_version": "1.5.0",
          "state": {
            "_model_module": "@jupyter-widgets/controls",
            "_model_module_version": "1.5.0",
            "_model_name": "DescriptionStyleModel",
            "_view_count": null,
            "_view_module": "@jupyter-widgets/base",
            "_view_module_version": "1.2.0",
            "_view_name": "StyleView",
            "description_width": ""
          }
        },
        "d0740364126f4b86808b10bcceb1bf25": {
          "model_module": "@jupyter-widgets/controls",
          "model_name": "HBoxModel",
          "model_module_version": "1.5.0",
          "state": {
            "_dom_classes": [],
            "_model_module": "@jupyter-widgets/controls",
            "_model_module_version": "1.5.0",
            "_model_name": "HBoxModel",
            "_view_count": null,
            "_view_module": "@jupyter-widgets/controls",
            "_view_module_version": "1.5.0",
            "_view_name": "HBoxView",
            "box_style": "",
            "children": [
              "IPY_MODEL_c7eb5806875f4782a831e13ee85bc989",
              "IPY_MODEL_89d9f0a8f8f14a6faa9b3312043f429a",
              "IPY_MODEL_753c6cd35dac44f78ff2c27d2523810b"
            ],
            "layout": "IPY_MODEL_9f7499938ee24fd48cb4311211caeec3"
          }
        },
        "c7eb5806875f4782a831e13ee85bc989": {
          "model_module": "@jupyter-widgets/controls",
          "model_name": "HTMLModel",
          "model_module_version": "1.5.0",
          "state": {
            "_dom_classes": [],
            "_model_module": "@jupyter-widgets/controls",
            "_model_module_version": "1.5.0",
            "_model_name": "HTMLModel",
            "_view_count": null,
            "_view_module": "@jupyter-widgets/controls",
            "_view_module_version": "1.5.0",
            "_view_name": "HTMLView",
            "description": "",
            "description_tooltip": null,
            "layout": "IPY_MODEL_8f196de065164a59934f811faf98b19b",
            "placeholder": "​",
            "style": "IPY_MODEL_8aeabe98cfa14c50a1f8d6acdf2a10a3",
            "value": "100%"
          }
        },
        "89d9f0a8f8f14a6faa9b3312043f429a": {
          "model_module": "@jupyter-widgets/controls",
          "model_name": "FloatProgressModel",
          "model_module_version": "1.5.0",
          "state": {
            "_dom_classes": [],
            "_model_module": "@jupyter-widgets/controls",
            "_model_module_version": "1.5.0",
            "_model_name": "FloatProgressModel",
            "_view_count": null,
            "_view_module": "@jupyter-widgets/controls",
            "_view_module_version": "1.5.0",
            "_view_name": "ProgressView",
            "bar_style": "success",
            "description": "",
            "description_tooltip": null,
            "layout": "IPY_MODEL_903e8ea03657481e9a92a93155a33bf9",
            "max": 1,
            "min": 0,
            "orientation": "horizontal",
            "style": "IPY_MODEL_5cac6d79a32d478bad7e9c96525d57e3",
            "value": 1
          }
        },
        "753c6cd35dac44f78ff2c27d2523810b": {
          "model_module": "@jupyter-widgets/controls",
          "model_name": "HTMLModel",
          "model_module_version": "1.5.0",
          "state": {
            "_dom_classes": [],
            "_model_module": "@jupyter-widgets/controls",
            "_model_module_version": "1.5.0",
            "_model_name": "HTMLModel",
            "_view_count": null,
            "_view_module": "@jupyter-widgets/controls",
            "_view_module_version": "1.5.0",
            "_view_name": "HTMLView",
            "description": "",
            "description_tooltip": null,
            "layout": "IPY_MODEL_d3f4f242f1cd4aa69938ff2b212a9d75",
            "placeholder": "​",
            "style": "IPY_MODEL_00d5fbf037a14d439a2f1fd658cf1267",
            "value": " 1/1 [00:00&lt;00:00,  1.33ba/s]"
          }
        },
        "9f7499938ee24fd48cb4311211caeec3": {
          "model_module": "@jupyter-widgets/base",
          "model_name": "LayoutModel",
          "model_module_version": "1.2.0",
          "state": {
            "_model_module": "@jupyter-widgets/base",
            "_model_module_version": "1.2.0",
            "_model_name": "LayoutModel",
            "_view_count": null,
            "_view_module": "@jupyter-widgets/base",
            "_view_module_version": "1.2.0",
            "_view_name": "LayoutView",
            "align_content": null,
            "align_items": null,
            "align_self": null,
            "border": null,
            "bottom": null,
            "display": null,
            "flex": null,
            "flex_flow": null,
            "grid_area": null,
            "grid_auto_columns": null,
            "grid_auto_flow": null,
            "grid_auto_rows": null,
            "grid_column": null,
            "grid_gap": null,
            "grid_row": null,
            "grid_template_areas": null,
            "grid_template_columns": null,
            "grid_template_rows": null,
            "height": null,
            "justify_content": null,
            "justify_items": null,
            "left": null,
            "margin": null,
            "max_height": null,
            "max_width": null,
            "min_height": null,
            "min_width": null,
            "object_fit": null,
            "object_position": null,
            "order": null,
            "overflow": null,
            "overflow_x": null,
            "overflow_y": null,
            "padding": null,
            "right": null,
            "top": null,
            "visibility": null,
            "width": null
          }
        },
        "8f196de065164a59934f811faf98b19b": {
          "model_module": "@jupyter-widgets/base",
          "model_name": "LayoutModel",
          "model_module_version": "1.2.0",
          "state": {
            "_model_module": "@jupyter-widgets/base",
            "_model_module_version": "1.2.0",
            "_model_name": "LayoutModel",
            "_view_count": null,
            "_view_module": "@jupyter-widgets/base",
            "_view_module_version": "1.2.0",
            "_view_name": "LayoutView",
            "align_content": null,
            "align_items": null,
            "align_self": null,
            "border": null,
            "bottom": null,
            "display": null,
            "flex": null,
            "flex_flow": null,
            "grid_area": null,
            "grid_auto_columns": null,
            "grid_auto_flow": null,
            "grid_auto_rows": null,
            "grid_column": null,
            "grid_gap": null,
            "grid_row": null,
            "grid_template_areas": null,
            "grid_template_columns": null,
            "grid_template_rows": null,
            "height": null,
            "justify_content": null,
            "justify_items": null,
            "left": null,
            "margin": null,
            "max_height": null,
            "max_width": null,
            "min_height": null,
            "min_width": null,
            "object_fit": null,
            "object_position": null,
            "order": null,
            "overflow": null,
            "overflow_x": null,
            "overflow_y": null,
            "padding": null,
            "right": null,
            "top": null,
            "visibility": null,
            "width": null
          }
        },
        "8aeabe98cfa14c50a1f8d6acdf2a10a3": {
          "model_module": "@jupyter-widgets/controls",
          "model_name": "DescriptionStyleModel",
          "model_module_version": "1.5.0",
          "state": {
            "_model_module": "@jupyter-widgets/controls",
            "_model_module_version": "1.5.0",
            "_model_name": "DescriptionStyleModel",
            "_view_count": null,
            "_view_module": "@jupyter-widgets/base",
            "_view_module_version": "1.2.0",
            "_view_name": "StyleView",
            "description_width": ""
          }
        },
        "903e8ea03657481e9a92a93155a33bf9": {
          "model_module": "@jupyter-widgets/base",
          "model_name": "LayoutModel",
          "model_module_version": "1.2.0",
          "state": {
            "_model_module": "@jupyter-widgets/base",
            "_model_module_version": "1.2.0",
            "_model_name": "LayoutModel",
            "_view_count": null,
            "_view_module": "@jupyter-widgets/base",
            "_view_module_version": "1.2.0",
            "_view_name": "LayoutView",
            "align_content": null,
            "align_items": null,
            "align_self": null,
            "border": null,
            "bottom": null,
            "display": null,
            "flex": null,
            "flex_flow": null,
            "grid_area": null,
            "grid_auto_columns": null,
            "grid_auto_flow": null,
            "grid_auto_rows": null,
            "grid_column": null,
            "grid_gap": null,
            "grid_row": null,
            "grid_template_areas": null,
            "grid_template_columns": null,
            "grid_template_rows": null,
            "height": null,
            "justify_content": null,
            "justify_items": null,
            "left": null,
            "margin": null,
            "max_height": null,
            "max_width": null,
            "min_height": null,
            "min_width": null,
            "object_fit": null,
            "object_position": null,
            "order": null,
            "overflow": null,
            "overflow_x": null,
            "overflow_y": null,
            "padding": null,
            "right": null,
            "top": null,
            "visibility": null,
            "width": null
          }
        },
        "5cac6d79a32d478bad7e9c96525d57e3": {
          "model_module": "@jupyter-widgets/controls",
          "model_name": "ProgressStyleModel",
          "model_module_version": "1.5.0",
          "state": {
            "_model_module": "@jupyter-widgets/controls",
            "_model_module_version": "1.5.0",
            "_model_name": "ProgressStyleModel",
            "_view_count": null,
            "_view_module": "@jupyter-widgets/base",
            "_view_module_version": "1.2.0",
            "_view_name": "StyleView",
            "bar_color": null,
            "description_width": ""
          }
        },
        "d3f4f242f1cd4aa69938ff2b212a9d75": {
          "model_module": "@jupyter-widgets/base",
          "model_name": "LayoutModel",
          "model_module_version": "1.2.0",
          "state": {
            "_model_module": "@jupyter-widgets/base",
            "_model_module_version": "1.2.0",
            "_model_name": "LayoutModel",
            "_view_count": null,
            "_view_module": "@jupyter-widgets/base",
            "_view_module_version": "1.2.0",
            "_view_name": "LayoutView",
            "align_content": null,
            "align_items": null,
            "align_self": null,
            "border": null,
            "bottom": null,
            "display": null,
            "flex": null,
            "flex_flow": null,
            "grid_area": null,
            "grid_auto_columns": null,
            "grid_auto_flow": null,
            "grid_auto_rows": null,
            "grid_column": null,
            "grid_gap": null,
            "grid_row": null,
            "grid_template_areas": null,
            "grid_template_columns": null,
            "grid_template_rows": null,
            "height": null,
            "justify_content": null,
            "justify_items": null,
            "left": null,
            "margin": null,
            "max_height": null,
            "max_width": null,
            "min_height": null,
            "min_width": null,
            "object_fit": null,
            "object_position": null,
            "order": null,
            "overflow": null,
            "overflow_x": null,
            "overflow_y": null,
            "padding": null,
            "right": null,
            "top": null,
            "visibility": null,
            "width": null
          }
        },
        "00d5fbf037a14d439a2f1fd658cf1267": {
          "model_module": "@jupyter-widgets/controls",
          "model_name": "DescriptionStyleModel",
          "model_module_version": "1.5.0",
          "state": {
            "_model_module": "@jupyter-widgets/controls",
            "_model_module_version": "1.5.0",
            "_model_name": "DescriptionStyleModel",
            "_view_count": null,
            "_view_module": "@jupyter-widgets/base",
            "_view_module_version": "1.2.0",
            "_view_name": "StyleView",
            "description_width": ""
          }
        }
      }
    }
  },
  "nbformat": 4,
  "nbformat_minor": 0
}